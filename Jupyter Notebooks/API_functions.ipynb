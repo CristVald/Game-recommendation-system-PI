{
 "cells": [
  {
   "cell_type": "markdown",
   "metadata": {},
   "source": [
    "### Funciones requeridas para la API\n",
    "\n",
    "Desarrollaremos y probaremos las funciones que han sido solicitadas para la API. Luego, cuando tengamos que deployarlas, es posible que debamos realizar algunos cambios debido a los requerimientos propios de FastAPI o Render."
   ]
  },
  {
   "cell_type": "markdown",
   "metadata": {},
   "source": [
    "### Carga de los dataset\n",
    "Cargaremos los conjuntos de datos necesarios para llevar a cabo las consultas solicitadas. Decidimos subir los datos de esta manera, y no los dataset completos, debido a la limitada capacidad de almacenamiento que permite Render. Por otra parte, considerando que el objetivo es entregar un PVM, a modo de prueba de concepto, considero adecuada esta simplificación de los datasets.\n",
    "\n",
    "Los dataset que se utilizan son:\n",
    "\n",
    "* df_user_reviews_FE: contiene la información relacionada a los usuarios que realizan reviews de los juegos en formato de análisis de sentimientos. Entre esta información, se encuentran las recomendaciones o no del juego por parte de usuario.\n",
    "\n",
    "* df_user_data_FE: contiene la cantidad de items que consume cada usuario y el precio de cada uno de los productos que consume.\n",
    "\n",
    "* df_userforgenre_FE: contiene el id de cada usuario, la cantidad de horas jugadas por cada género de juego y el año de lanzamiento.\n",
    "\n",
    "* df_best_developer_FE: contiene el ranking de los géneros de juegos con mas horas jugadas.\n",
    "\n",
    "* df_item_developer_year_FE: contiene la información relacionada con cada item de juegos como su id, desarrollador, las recomendaciones y el analisis de sentimiento.\n",
    "\n"
   ]
  },
  {
   "cell_type": "code",
   "execution_count": 1,
   "metadata": {},
   "outputs": [],
   "source": [
    "import pandas as pd\n",
    "import tools\n",
    "import warnings\n",
    "warnings.filterwarnings(\"ignore\")\n",
    "\n",
    "\n",
    "df_user_reviews = pd.read_csv(\"df_user_reviews_FE.csv\")\n",
    "df_user_data = pd.read_csv(\"df_user_data_FE.csv\")\n",
    "df_user_for_genre = pd.read_csv(\"df_userforgenre_FE.csv\")\n",
    "df_item_developer_year = pd.read_csv(\"df_item_developer_year_FE.csv\")\n",
    "df_best_developer = pd.read_csv(\"df_best_developer_FE.csv\")\n"
   ]
  },
  {
   "cell_type": "markdown",
   "metadata": {},
   "source": [
    "A continuación, se desarrollan cada una de las funciones solicitadas.\n",
    "# developer\n",
    "Esta función recibe como parámetro 'developer', que es la empresa desarrolladora del juego, y devuelve la cantidad de items que desarrolla dicha empresa y el porcentaje de contenido gratuito por año por sobre el total que desarrolla"
   ]
  },
  {
   "cell_type": "code",
   "execution_count": 18,
   "metadata": {},
   "outputs": [],
   "source": [
    "def developer(desarrollador: str):\n",
    "    # Filtramos el dataframe por desarrollador de interés\n",
    "    data_filtrada = df_item_developer_year[df_item_developer_year[\"developer\"] == desarrollador]\n",
    "    # La cantidad de items por año\n",
    "    cantidad_por_año = data_filtrada.groupby(\"release_year\")[\"item_id\"].count()\n",
    "    # La cantidad de elementos gratis por año\n",
    "    cantidad_gratis_por_año = data_filtrada[data_filtrada[\"price\"] == 0.0].groupby(\"release_year\")[\"item_id\"].count()\n",
    "    # El porcentaje de elementos gratis por año\n",
    "    porcentaje_gratis_por_año = (cantidad_gratis_por_año / cantidad_por_año * 100).fillna(0).astype(int)\n",
    "    # Agregamos el símbolo de porcentaje (%) al valor del porcentaje\n",
    "    porcentaje_gratis_por_año = porcentaje_gratis_por_año.astype(str) + '%'\n",
    "    \n",
    "    result_dict = {\n",
    "        \"cantidad_por_año\": cantidad_por_año.to_dict(),\n",
    "        \"porcentaje_gratis_por_año\": porcentaje_gratis_por_año.to_dict()\n",
    "    }\n",
    "    \n",
    "    return result_dict"
   ]
  },
  {
   "cell_type": "code",
   "execution_count": 19,
   "metadata": {},
   "outputs": [
    {
     "data": {
      "text/plain": [
       "{'cantidad_por_año': {'2018': 1}, 'porcentaje_gratis_por_año': {'2018': 0}}"
      ]
     },
     "execution_count": 19,
     "metadata": {},
     "output_type": "execute_result"
    }
   ],
   "source": [
    "desarrollador = \"Kotoshiro\"\n",
    "developer(desarrollador)"
   ]
  },
  {
   "cell_type": "markdown",
   "metadata": {},
   "source": [
    "## userdata\n",
    "Esta función tiene por parámentro 'user_id' y devuelve la cantidad de dinero gastado por el usuario, el porcentaje de recomendaciones que realizó sobre la cantidad de reviews que se analizan y la cantidad de items que consume el mismo."
   ]
  },
  {
   "cell_type": "code",
   "execution_count": 20,
   "metadata": {},
   "outputs": [],
   "source": [
    "def userdata(user_id):\n",
    "    \n",
    "    # Filtramos por el usuario de interés\n",
    "    user= df_user_reviews[df_user_reviews[\"user_id\"] == user_id]\n",
    "    # la cantidad de dinero gastado para el usuario de interés\n",
    "    cantidad = df_user_data[df_user_data[\"user_id\"]== user_id][\"price\"].iloc[0]\n",
    "    # Buscamos el count_item para el usuario de interés    \n",
    "    conteo_items = df_user_data[df_user_data[\"user_id\"]== user_id][\"items_count\"].iloc[0]\n",
    "    \n",
    "    # Total de recomendaciones realizadas por el usuario de interés\n",
    "    total_recomendaciones = user[\"reviews_recommend\"].sum()\n",
    "    # Total de reviews realizada por todos los usuarios\n",
    "    total_reviews = len(df_user_reviews[\"user_id\"].unique())\n",
    "    # Porcentaje de recomendaciones realizadas por el usuario de interés\n",
    "    porcentaje_recomendaciones = (total_recomendaciones / total_reviews) * 100\n",
    "    \n",
    "    return {\n",
    "        \"cantidad_dinero\": cantidad,\n",
    "        \"porcentaje_recomendacion\": round(porcentaje_recomendaciones, 2),\n",
    "        \"total_items\": conteo_items.astype(int)\n",
    "    }"
   ]
  },
  {
   "cell_type": "code",
   "execution_count": 21,
   "metadata": {},
   "outputs": [
    {
     "data": {
      "text/plain": [
       "{'cantidad_dinero': 1071.15,\n",
       " 'porcentaje_recomendacion': 0.03,\n",
       " 'total_items': 116}"
      ]
     },
     "execution_count": 21,
     "metadata": {},
     "output_type": "execute_result"
    }
   ],
   "source": [
    "user_id = \"ButtBurger2\"\n",
    "userdata(user_id)"
   ]
  },
  {
   "cell_type": "markdown",
   "metadata": {},
   "source": [
    "### UserForGenre\n",
    "Debe devolver el usuario que acumula más horas jugadas para el género dado y una lista de la acumulación de horas jugadas por año de lanzamiento.\n"
   ]
  },
  {
   "cell_type": "code",
   "execution_count": 22,
   "metadata": {},
   "outputs": [],
   "source": [
    "def UserForGenre(genero:str):\n",
    "    \n",
    "    # Filtramos el DataFrame por el género dado\n",
    "    genre_data = df_user_for_genre[df_user_for_genre[\"genres\"] == genero]\n",
    "\n",
    "    # Usuario con más horas jugadas para ese género\n",
    "    top_user = genre_data.loc[genre_data[\"played_hours\"].idxmax()][\"user_id\"]\n",
    "\n",
    "    # Lista de acumulación de horas jugadas por año\n",
    "    hours_by_year = genre_data.groupby(\"release_year\")[\"played_hours\"].sum().reset_index()\n",
    "  \n",
    "    hours_by_year = hours_by_year.rename(columns={\"release_year\": \"Año\", \"played_hours\": \"Horas\"})\n",
    "    \n",
    "    hours_list = hours_by_year.to_dict(orient=\"records\")\n",
    "\n",
    "    # Diccionario de retorno\n",
    "    result = {\n",
    "        \"Usuario con más horas jugadas para Género {}\".format(genero): top_user,\n",
    "        \"Horas jugadas\": hours_list\n",
    "    }\n",
    "\n",
    "    return result"
   ]
  },
  {
   "cell_type": "code",
   "execution_count": 23,
   "metadata": {},
   "outputs": [
    {
     "name": "stdout",
     "output_type": "stream",
     "text": [
      "{'Usuario con más horas jugadas para Género Indie': 'REBAS_AS_F-T', 'Horas jugadas': [{'Año': 2005, 'Horas': 5511.23}, {'Año': 2006, 'Horas': 7435258.0}, {'Año': 2007, 'Horas': 22336.16}, {'Año': 2008, 'Horas': 87594.71}, {'Año': 2009, 'Horas': 63460.65}, {'Año': 2010, 'Horas': 142221.89}, {'Año': 2011, 'Horas': 3756228.85}, {'Año': 2012, 'Horas': 2052902.27}, {'Año': 2013, 'Horas': 2955802.75}, {'Año': 2014, 'Horas': 1536246.04}, {'Año': 2015, 'Horas': 499837.09}, {'Año': '1988', 'Horas': 232.76}, {'Año': '1995', 'Horas': 52.839999999999996}, {'Año': '1996', 'Horas': 9.53}, {'Año': '1997', 'Horas': 1071.43}, {'Año': '1998', 'Horas': 332.65}, {'Año': '1999', 'Horas': 10450.29}, {'Año': '2000', 'Horas': 88.4}, {'Año': '2001', 'Horas': 1474.24}, {'Año': '2002', 'Horas': 631.53}, {'Año': '2003', 'Horas': 35456.25}, {'Año': '2004', 'Horas': 719.58}, {'Año': '2005', 'Horas': 93.95}, {'Año': '2015', 'Horas': 2393073.9}, {'Año': '2016', 'Horas': 1488879.61}, {'Año': '2017', 'Horas': 2093241.16}, {'Año': '2018', 'Horas': 38.78}, {'Año': 'Dato no disponible', 'Horas': 8046.18}]}\n"
     ]
    }
   ],
   "source": [
    "genero = \"Indie\"\n",
    "resultado = UserForGenre(genero)\n",
    "print(resultado)"
   ]
  },
  {
   "cell_type": "markdown",
   "metadata": {},
   "source": [
    "### best_developer_year: \n",
    "\n",
    "Devuelve el top 3 de desarrolladores con juegos más recomendados por usuarios para el año dado. "
   ]
  },
  {
   "cell_type": "code",
   "execution_count": 6,
   "metadata": {},
   "outputs": [],
   "source": [
    "def best_developer_year(anio):\n",
    "    \n",
    "    # Filtramos por el año dado y solo con comentarios recomendados y positivos\n",
    "    df_filtrado = df_best_developer[(df_best_developer[\"year\"] == anio) & (df_best_developer[\"reviews_recommend\"] == True) & (df_best_developer[\"sentiment_analysis\"] == 2)]\n",
    "\n",
    "    if df_filtrado.empty:\n",
    "        return f\"No hay datos para el año {anio}.\"\n",
    "\n",
    "    # Agrupamos por desarrollador y contamos la cantidad de juegos recomendados\n",
    "    desarrolladores_top = df_filtrado.groupby(\"developer\")[\"item_id\"].count().reset_index()\n",
    "\n",
    "    # Ordenamos en orden descendente y seleccionar los tres primeros\n",
    "    desarrolladores_top = desarrolladores_top.sort_values(by=\"item_id\", ascending=False).head(3)\n",
    "\n",
    "    # Creamos el resultado en el formato deseado\n",
    "    resultado = [{\"Puesto \" + str(i+1): desarrollador} for i, desarrollador in enumerate(desarrolladores_top['developer'])]\n",
    "\n",
    "    return resultado\n",
    "\n"
   ]
  },
  {
   "cell_type": "code",
   "execution_count": 7,
   "metadata": {},
   "outputs": [
    {
     "name": "stdout",
     "output_type": "stream",
     "text": [
      "[{'Puesto 1': 'Valve'}, {'Puesto 2': 'Facepunch Studios'}, {'Puesto 3': 'Smartly Dressed Games'}]\n"
     ]
    }
   ],
   "source": [
    "anio_deseado = 2015\n",
    "resultado = best_developer_year(anio_deseado)\n",
    "print(resultado)"
   ]
  },
  {
   "cell_type": "markdown",
   "metadata": {},
   "source": [
    "### developer_reviews_analysis\n",
    "\n",
    "Según el desarrollador, se devuelve un diccionario con el nombre del desarrollador como llave y una lista con la cantidad total de registros de reseñas de usuarios que se encuentren categorizados con un análisis de sentimiento como valor positivo o negativo."
   ]
  },
  {
   "cell_type": "code",
   "execution_count": 3,
   "metadata": {},
   "outputs": [],
   "source": [
    "def developer_reviews_analysis(desarrolladora):\n",
    "    # Supongamos que tienes un DataFrame llamado 'df' con las columnas proporcionadas\n",
    "    \n",
    "    # Filtrar por desarrolladora\n",
    "    df_filtrado = df_best_developer[df_best_developer[\"developer\"] == desarrolladora]\n",
    "\n",
    "    if df_filtrado.empty:\n",
    "        return f\"No hay datos para la desarrolladora {desarrolladora}.\"\n",
    "\n",
    "    # Contar la cantidad de registros con análisis de sentimiento 0, 1 y 2\n",
    "    conteo_sentimientos = df_filtrado[\"sentiment_analysis\"].value_counts()\n",
    "\n",
    "    # Crear el resultado en el formato deseado\n",
    "    resultado = {desarrolladora: {\"Negative\": conteo_sentimientos.get(0, 0),\n",
    "                                  \"Positive\": conteo_sentimientos.get(2, 0)}}\n",
    "\n",
    "    return resultado\n"
   ]
  },
  {
   "cell_type": "code",
   "execution_count": 4,
   "metadata": {},
   "outputs": [
    {
     "name": "stdout",
     "output_type": "stream",
     "text": [
      "{'Smartly Dressed Games': {'Negative': 395, 'Positive': 1470}}\n"
     ]
    }
   ],
   "source": [
    "# Ejemplo de uso\n",
    "desarrolladora_deseada = \"Smartly Dressed Games\"\n",
    "resultado = developer_reviews_analysis(desarrolladora_deseada)\n",
    "print(resultado)"
   ]
  }
 ],
 "metadata": {
  "kernelspec": {
   "display_name": "Python 3",
   "language": "python",
   "name": "python3"
  },
  "language_info": {
   "codemirror_mode": {
    "name": "ipython",
    "version": 3
   },
   "file_extension": ".py",
   "mimetype": "text/x-python",
   "name": "python",
   "nbconvert_exporter": "python",
   "pygments_lexer": "ipython3",
   "version": "3.11.5"
  }
 },
 "nbformat": 4,
 "nbformat_minor": 2
}
