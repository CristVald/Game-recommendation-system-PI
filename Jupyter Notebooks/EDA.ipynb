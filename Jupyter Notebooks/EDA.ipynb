{
 "cells": [
  {
   "cell_type": "markdown",
   "metadata": {},
   "source": [
    "## Análisis Exploratorio de Datos (EDA)\n",
    "En esta sección, nos sumergiremos en los conjuntos de datos limpios para realizar un análisis exploratorio detallado. El objetivo principal será entender la distribución de los datos, identificar patrones y extraer información valiosa que pueda ser crucial para el desarrollo de modelos de recomendación."
   ]
  },
  {
   "cell_type": "code",
   "execution_count": 2,
   "metadata": {},
   "outputs": [],
   "source": [
    "import pandas as pd\n",
    "import matplotlib.pyplot as plt\n",
    "import seaborn as sns\n",
    "import tools\n",
    "import warnings\n",
    "warnings.filterwarnings(\"ignore\")"
   ]
  },
  {
   "cell_type": "markdown",
   "metadata": {},
   "source": [
    "## EDA del dataset user_reviews\n",
    "En esta sección, desarrollamos el Análisis Exploratorio de los Datos del conjunto user_reviews que ya pasó por el proceso de Feature Engineering"
   ]
  },
  {
   "cell_type": "code",
   "execution_count": 3,
   "metadata": {},
   "outputs": [
    {
     "data": {
      "text/html": [
       "<div>\n",
       "<style scoped>\n",
       "    .dataframe tbody tr th:only-of-type {\n",
       "        vertical-align: middle;\n",
       "    }\n",
       "\n",
       "    .dataframe tbody tr th {\n",
       "        vertical-align: top;\n",
       "    }\n",
       "\n",
       "    .dataframe thead th {\n",
       "        text-align: right;\n",
       "    }\n",
       "</style>\n",
       "<table border=\"1\" class=\"dataframe\">\n",
       "  <thead>\n",
       "    <tr style=\"text-align: right;\">\n",
       "      <th></th>\n",
       "      <th>user_id</th>\n",
       "      <th>item_id</th>\n",
       "      <th>reviews_helpful</th>\n",
       "      <th>reviews_recommend</th>\n",
       "      <th>year</th>\n",
       "      <th>sentiment_analysis</th>\n",
       "      <th>release_year</th>\n",
       "    </tr>\n",
       "  </thead>\n",
       "  <tbody>\n",
       "    <tr>\n",
       "      <th>0</th>\n",
       "      <td>--000--</td>\n",
       "      <td>218230</td>\n",
       "      <td>No ratings yet</td>\n",
       "      <td>True</td>\n",
       "      <td>2014</td>\n",
       "      <td>2</td>\n",
       "      <td>2012</td>\n",
       "    </tr>\n",
       "    <tr>\n",
       "      <th>1</th>\n",
       "      <td>112asdasfasdasd</td>\n",
       "      <td>218230</td>\n",
       "      <td>No ratings yet</td>\n",
       "      <td>True</td>\n",
       "      <td>2013</td>\n",
       "      <td>1</td>\n",
       "      <td>2012</td>\n",
       "    </tr>\n",
       "    <tr>\n",
       "      <th>2</th>\n",
       "      <td>1234567890192837465</td>\n",
       "      <td>218230</td>\n",
       "      <td>No ratings yet</td>\n",
       "      <td>True</td>\n",
       "      <td>2014</td>\n",
       "      <td>1</td>\n",
       "      <td>2012</td>\n",
       "    </tr>\n",
       "    <tr>\n",
       "      <th>3</th>\n",
       "      <td>2828838282</td>\n",
       "      <td>218230</td>\n",
       "      <td>No ratings yet</td>\n",
       "      <td>True</td>\n",
       "      <td>2012</td>\n",
       "      <td>1</td>\n",
       "      <td>2012</td>\n",
       "    </tr>\n",
       "    <tr>\n",
       "      <th>4</th>\n",
       "      <td>2sd31</td>\n",
       "      <td>218230</td>\n",
       "      <td>No ratings yet</td>\n",
       "      <td>True</td>\n",
       "      <td>2013</td>\n",
       "      <td>1</td>\n",
       "      <td>2012</td>\n",
       "    </tr>\n",
       "  </tbody>\n",
       "</table>\n",
       "</div>"
      ],
      "text/plain": [
       "               user_id  item_id reviews_helpful  reviews_recommend  year  \\\n",
       "0              --000--   218230  No ratings yet               True  2014   \n",
       "1      112asdasfasdasd   218230  No ratings yet               True  2013   \n",
       "2  1234567890192837465   218230  No ratings yet               True  2014   \n",
       "3           2828838282   218230  No ratings yet               True  2012   \n",
       "4                2sd31   218230  No ratings yet               True  2013   \n",
       "\n",
       "   sentiment_analysis release_year  \n",
       "0                   2         2012  \n",
       "1                   1         2012  \n",
       "2                   1         2012  \n",
       "3                   1         2012  \n",
       "4                   1         2012  "
      ]
     },
     "execution_count": 3,
     "metadata": {},
     "output_type": "execute_result"
    }
   ],
   "source": [
    "df_user_reviews = pd.read_csv(\"df_user_reviews_FE.csv\", encoding=\"utf-8\")\n",
    "df_user_reviews.head()"
   ]
  },
  {
   "cell_type": "markdown",
   "metadata": {},
   "source": [
    "Revisamos los tipos de datos y cantidad de nulos si hay."
   ]
  },
  {
   "cell_type": "code",
   "execution_count": 4,
   "metadata": {},
   "outputs": [
    {
     "name": "stdout",
     "output_type": "stream",
     "text": [
      "La cantidad de registros que hay son: 48802\n"
     ]
    },
    {
     "data": {
      "text/html": [
       "<div>\n",
       "<style scoped>\n",
       "    .dataframe tbody tr th:only-of-type {\n",
       "        vertical-align: middle;\n",
       "    }\n",
       "\n",
       "    .dataframe tbody tr th {\n",
       "        vertical-align: top;\n",
       "    }\n",
       "\n",
       "    .dataframe thead th {\n",
       "        text-align: right;\n",
       "    }\n",
       "</style>\n",
       "<table border=\"1\" class=\"dataframe\">\n",
       "  <thead>\n",
       "    <tr style=\"text-align: right;\">\n",
       "      <th></th>\n",
       "      <th>nombre_campo</th>\n",
       "      <th>tipo_datos</th>\n",
       "      <th>no_nulos_%</th>\n",
       "      <th>nulos_%</th>\n",
       "      <th>nulos</th>\n",
       "    </tr>\n",
       "  </thead>\n",
       "  <tbody>\n",
       "    <tr>\n",
       "      <th>0</th>\n",
       "      <td>user_id</td>\n",
       "      <td>[&lt;class 'str'&gt;]</td>\n",
       "      <td>100.0</td>\n",
       "      <td>0.0</td>\n",
       "      <td>0</td>\n",
       "    </tr>\n",
       "    <tr>\n",
       "      <th>1</th>\n",
       "      <td>item_id</td>\n",
       "      <td>[&lt;class 'int'&gt;]</td>\n",
       "      <td>100.0</td>\n",
       "      <td>0.0</td>\n",
       "      <td>0</td>\n",
       "    </tr>\n",
       "    <tr>\n",
       "      <th>2</th>\n",
       "      <td>reviews_helpful</td>\n",
       "      <td>[&lt;class 'str'&gt;]</td>\n",
       "      <td>100.0</td>\n",
       "      <td>0.0</td>\n",
       "      <td>0</td>\n",
       "    </tr>\n",
       "    <tr>\n",
       "      <th>3</th>\n",
       "      <td>reviews_recommend</td>\n",
       "      <td>[&lt;class 'bool'&gt;]</td>\n",
       "      <td>100.0</td>\n",
       "      <td>0.0</td>\n",
       "      <td>0</td>\n",
       "    </tr>\n",
       "    <tr>\n",
       "      <th>4</th>\n",
       "      <td>year</td>\n",
       "      <td>[&lt;class 'int'&gt;]</td>\n",
       "      <td>100.0</td>\n",
       "      <td>0.0</td>\n",
       "      <td>0</td>\n",
       "    </tr>\n",
       "    <tr>\n",
       "      <th>5</th>\n",
       "      <td>sentiment_analysis</td>\n",
       "      <td>[&lt;class 'int'&gt;]</td>\n",
       "      <td>100.0</td>\n",
       "      <td>0.0</td>\n",
       "      <td>0</td>\n",
       "    </tr>\n",
       "    <tr>\n",
       "      <th>6</th>\n",
       "      <td>release_year</td>\n",
       "      <td>[&lt;class 'str'&gt;]</td>\n",
       "      <td>100.0</td>\n",
       "      <td>0.0</td>\n",
       "      <td>0</td>\n",
       "    </tr>\n",
       "  </tbody>\n",
       "</table>\n",
       "</div>"
      ],
      "text/plain": [
       "         nombre_campo        tipo_datos  no_nulos_%  nulos_%  nulos\n",
       "0             user_id   [<class 'str'>]       100.0      0.0      0\n",
       "1             item_id   [<class 'int'>]       100.0      0.0      0\n",
       "2     reviews_helpful   [<class 'str'>]       100.0      0.0      0\n",
       "3   reviews_recommend  [<class 'bool'>]       100.0      0.0      0\n",
       "4                year   [<class 'int'>]       100.0      0.0      0\n",
       "5  sentiment_analysis   [<class 'int'>]       100.0      0.0      0\n",
       "6        release_year   [<class 'str'>]       100.0      0.0      0"
      ]
     },
     "execution_count": 4,
     "metadata": {},
     "output_type": "execute_result"
    }
   ],
   "source": [
    "print(f\"La cantidad de registros que hay son: {df_user_reviews.shape[0]}\")\n",
    "tools.ver_tipo_datos(df_user_reviews)"
   ]
  },
  {
   "cell_type": "markdown",
   "metadata": {},
   "source": [
    "Obtuvimos 48802 registros de opiniones de los usuarios respecto a los juegos que consumen. Si bien no hay nulos, recordemos que en el ETL observamos datos faltantes en la columna 'reviews_date' donde la rellenamos con 'Formato inválido'.  "
   ]
  },
  {
   "cell_type": "markdown",
   "metadata": {},
   "source": [
    "#### Columnas \"sentiment_analysis\" y \"reviews_recommend\"\n",
    "\n",
    "Exploraremos las columnas 'sentiment_analysis' y 'reviews_recommend'."
   ]
  },
  {
   "cell_type": "code",
   "execution_count": 5,
   "metadata": {},
   "outputs": [
    {
     "data": {
      "text/html": [
       "<div>\n",
       "<style scoped>\n",
       "    .dataframe tbody tr th:only-of-type {\n",
       "        vertical-align: middle;\n",
       "    }\n",
       "\n",
       "    .dataframe tbody tr th {\n",
       "        vertical-align: top;\n",
       "    }\n",
       "\n",
       "    .dataframe thead th {\n",
       "        text-align: right;\n",
       "    }\n",
       "</style>\n",
       "<table border=\"1\" class=\"dataframe\">\n",
       "  <thead>\n",
       "    <tr style=\"text-align: right;\">\n",
       "      <th></th>\n",
       "      <th>Cantidad</th>\n",
       "      <th>Porcentaje</th>\n",
       "    </tr>\n",
       "    <tr>\n",
       "      <th>sentiment_analysis</th>\n",
       "      <th></th>\n",
       "      <th></th>\n",
       "    </tr>\n",
       "  </thead>\n",
       "  <tbody>\n",
       "    <tr>\n",
       "      <th>1</th>\n",
       "      <td>29957</td>\n",
       "      <td>61.38</td>\n",
       "    </tr>\n",
       "    <tr>\n",
       "      <th>2</th>\n",
       "      <td>14649</td>\n",
       "      <td>30.02</td>\n",
       "    </tr>\n",
       "    <tr>\n",
       "      <th>0</th>\n",
       "      <td>4196</td>\n",
       "      <td>8.60</td>\n",
       "    </tr>\n",
       "  </tbody>\n",
       "</table>\n",
       "</div>"
      ],
      "text/plain": [
       "                    Cantidad  Porcentaje\n",
       "sentiment_analysis                      \n",
       "1                      29957       61.38\n",
       "2                      14649       30.02\n",
       "0                       4196        8.60"
      ]
     },
     "execution_count": 5,
     "metadata": {},
     "output_type": "execute_result"
    }
   ],
   "source": [
    "tools.resumen_porcentaje(df_user_reviews, \"sentiment_analysis\")\n"
   ]
  },
  {
   "cell_type": "code",
   "execution_count": 6,
   "metadata": {},
   "outputs": [
    {
     "data": {
      "text/html": [
       "<div>\n",
       "<style scoped>\n",
       "    .dataframe tbody tr th:only-of-type {\n",
       "        vertical-align: middle;\n",
       "    }\n",
       "\n",
       "    .dataframe tbody tr th {\n",
       "        vertical-align: top;\n",
       "    }\n",
       "\n",
       "    .dataframe thead th {\n",
       "        text-align: right;\n",
       "    }\n",
       "</style>\n",
       "<table border=\"1\" class=\"dataframe\">\n",
       "  <thead>\n",
       "    <tr style=\"text-align: right;\">\n",
       "      <th></th>\n",
       "      <th>Cantidad</th>\n",
       "      <th>Porcentaje</th>\n",
       "    </tr>\n",
       "    <tr>\n",
       "      <th>reviews_recommend</th>\n",
       "      <th></th>\n",
       "      <th></th>\n",
       "    </tr>\n",
       "  </thead>\n",
       "  <tbody>\n",
       "    <tr>\n",
       "      <th>True</th>\n",
       "      <td>43600</td>\n",
       "      <td>89.34</td>\n",
       "    </tr>\n",
       "    <tr>\n",
       "      <th>False</th>\n",
       "      <td>5202</td>\n",
       "      <td>10.66</td>\n",
       "    </tr>\n",
       "  </tbody>\n",
       "</table>\n",
       "</div>"
      ],
      "text/plain": [
       "                   Cantidad  Porcentaje\n",
       "reviews_recommend                      \n",
       "True                  43600       89.34\n",
       "False                  5202       10.66"
      ]
     },
     "execution_count": 6,
     "metadata": {},
     "output_type": "execute_result"
    }
   ],
   "source": [
    "tools.resumen_porcentaje(df_user_reviews, \"reviews_recommend\")"
   ]
  },
  {
   "cell_type": "markdown",
   "metadata": {},
   "source": [
    "De los registros de reviews casi el 62% de los reviews reflejan sentimientos neutrales, casi el 30% reflejan sentimientos positivos hacia el juego y menos del 9% refleja negativo. Pero en el 89% de los reviews se recomiendan los juegos que consumen.\n",
    "\n",
    "En el siguiente código, buscaremos ver la cantidad de recomendaciones para los distintos sentimientos de las reviews."
   ]
  },
  {
   "cell_type": "code",
   "execution_count": 7,
   "metadata": {},
   "outputs": [
    {
     "data": {
      "text/html": [
       "<div>\n",
       "<style scoped>\n",
       "    .dataframe tbody tr th:only-of-type {\n",
       "        vertical-align: middle;\n",
       "    }\n",
       "\n",
       "    .dataframe tbody tr th {\n",
       "        vertical-align: top;\n",
       "    }\n",
       "\n",
       "    .dataframe thead th {\n",
       "        text-align: right;\n",
       "    }\n",
       "</style>\n",
       "<table border=\"1\" class=\"dataframe\">\n",
       "  <thead>\n",
       "    <tr style=\"text-align: right;\">\n",
       "      <th></th>\n",
       "      <th></th>\n",
       "      <th>Cantidad</th>\n",
       "      <th>Porcentaje</th>\n",
       "    </tr>\n",
       "    <tr>\n",
       "      <th>sentiment_analysis</th>\n",
       "      <th>reviews_recommend</th>\n",
       "      <th></th>\n",
       "      <th></th>\n",
       "    </tr>\n",
       "  </thead>\n",
       "  <tbody>\n",
       "    <tr>\n",
       "      <th rowspan=\"2\" valign=\"top\">0</th>\n",
       "      <th>False</th>\n",
       "      <td>1326</td>\n",
       "      <td>2.717102</td>\n",
       "    </tr>\n",
       "    <tr>\n",
       "      <th>True</th>\n",
       "      <td>2870</td>\n",
       "      <td>5.880907</td>\n",
       "    </tr>\n",
       "    <tr>\n",
       "      <th rowspan=\"2\" valign=\"top\">1</th>\n",
       "      <th>False</th>\n",
       "      <td>3420</td>\n",
       "      <td>7.007910</td>\n",
       "    </tr>\n",
       "    <tr>\n",
       "      <th>True</th>\n",
       "      <td>26537</td>\n",
       "      <td>54.376870</td>\n",
       "    </tr>\n",
       "    <tr>\n",
       "      <th rowspan=\"2\" valign=\"top\">2</th>\n",
       "      <th>False</th>\n",
       "      <td>456</td>\n",
       "      <td>0.934388</td>\n",
       "    </tr>\n",
       "    <tr>\n",
       "      <th>True</th>\n",
       "      <td>14193</td>\n",
       "      <td>29.082824</td>\n",
       "    </tr>\n",
       "  </tbody>\n",
       "</table>\n",
       "</div>"
      ],
      "text/plain": [
       "                                      Cantidad  Porcentaje\n",
       "sentiment_analysis reviews_recommend                      \n",
       "0                  False                  1326    2.717102\n",
       "                   True                   2870    5.880907\n",
       "1                  False                  3420    7.007910\n",
       "                   True                  26537   54.376870\n",
       "2                  False                   456    0.934388\n",
       "                   True                  14193   29.082824"
      ]
     },
     "execution_count": 7,
     "metadata": {},
     "output_type": "execute_result"
    }
   ],
   "source": [
    "# agrupamos por \"sentiment_analysis\" y \"reviews_recommend\"\n",
    "df_agrupado = df_user_reviews.groupby([\"sentiment_analysis\", \"reviews_recommend\"])\n",
    "# Cantidad de reviews en cada grupo\n",
    "cant_grupo = df_agrupado.size()\n",
    "# Porcentaje por cada grupo\n",
    "porc_grupo = 100 * df_agrupado.size() / len(df_user_reviews)\n",
    "# DataFrame con el resumen\n",
    "sentimiento_recomendacion = pd.DataFrame({\n",
    "    \"Cantidad\": cant_grupo,\n",
    "    \"Porcentaje\": porc_grupo\n",
    "})\n",
    "\n",
    "\n",
    "sentimiento_recomendacion"
   ]
  },
  {
   "cell_type": "markdown",
   "metadata": {},
   "source": [
    "Podemos visualizar que, en el porcentaje con respecto al total de los reviews, casi el 54% de los reviews que reflejan un sentimiento neutral recomienda el juego, por lo que un sentimiento neutral podría estar relacionado con un comentario sencillo o sin muchos detalles pero que aún así el juego le gustó como para recomendarlo. \n",
    "Por otra parte, los comentarios que reflejaron un sentimiento negativo muestran que cerca del 6% aún recomienda el juego, lo que es algo contradictorio."
   ]
  },
  {
   "cell_type": "code",
   "execution_count": 8,
   "metadata": {},
   "outputs": [
    {
     "name": "stdout",
     "output_type": "stream",
     "text": [
      "Cantidad de usuarios únicos que opinaron: 22973\n"
     ]
    }
   ],
   "source": [
    "# Cantidad de usuarios que dieron su opinion\n",
    "print(f\"Cantidad de usuarios únicos que opinaron: {len(df_user_reviews['user_id'].unique())}\")\n",
    "\n"
   ]
  },
  {
   "cell_type": "markdown",
   "metadata": {},
   "source": [
    "Un total de 22973 usuarios dieron su opinión sobre el juego que consumen, con lo que un usuario hizo más de un comentario."
   ]
  },
  {
   "cell_type": "markdown",
   "metadata": {},
   "source": [
    "## \"year\" en User Reviews\n",
    "\"year\" representa el año en que los usuario realizaron la reseña.\n",
    "\n"
   ]
  },
  {
   "cell_type": "code",
   "execution_count": 12,
   "metadata": {},
   "outputs": [
    {
     "data": {
      "image/png": "[encoded data removed]",
      "text/plain": [
       "<Figure size 1500x600 with 2 Axes>"
      ]
     },
     "metadata": {},
     "output_type": "display_data"
    }
   ],
   "source": [
    "# Creamos subplots\n",
    "fig, axs = plt.subplots(1, 2, figsize=(15, 6))\n",
    "\n",
    "# Histograma de la distribución de años\n",
    "axs[0].hist(df_user_reviews[\"year\"], bins=20, color='green', edgecolor='black')\n",
    "axs[0].set_title(\"Distribución de las reseñas en años\")\n",
    "axs[0].set_xlabel(\"Año\")\n",
    "axs[0].set_ylabel(\"Número de Reseñas\")\n",
    "axs[0].grid(axis=\"y\", linestyle=\"--\", alpha=0.9)\n",
    "\n",
    "# Gráfico de líneas para las tendencias\n",
    "trends = df_user_reviews[\"year\"].value_counts().sort_index()\n",
    "axs[1].plot(trends.index, trends.values, marker=\"o\", linestyle=\"-\", color='blue')\n",
    "axs[1].set_title(\"Tendencias de las reseñas\")\n",
    "axs[1].set_xlabel(\"Año\")\n",
    "axs[1].set_ylabel(\"Número de Reseñas\")\n",
    "axs[1].grid(axis=\"y\", linestyle=\"--\", alpha=0.9)\n",
    "\n",
    "# Ajustamos el diseño\n",
    "plt.tight_layout()\n",
    "\n",
    "# Mostramos los gráficos\n",
    "plt.show()"
   ]
  },
  {
   "cell_type": "markdown",
   "metadata": {},
   "source": [
    "Los gráficos de distribución de años y tendencias presentan una perspectiva completa sobre la evolución temporal de las reseñas de usuarios en la plataforma Steam. Aquí algunos puntos clave para destacar:\n",
    "\n",
    "Histograma de Distribución de reseñas:\n",
    "La mayoría de las reseñas se concentran en los años más recientes, particularmente en 2014, 2015, y en menor medida, 2013. El año 2010 tiene la menor cantidad de reseñas, lo que sugiere un aumento significativo en la participación de usuarios con el tiempo y resalta la expansión y la creciente popularidad de la plataforma Steam en años más recientes.\n",
    "\n",
    "Gráfico de Líneas de Tendencias:\n",
    "La tendencia temporal muestra un crecimiento constante en el número de reseñas a lo largo de los años. La línea alcanza su punto máximo en 2014, indicando un pico en la actividad de reseñas en ese año.\n",
    "\n",
    "La relación entre la distribución de años y la tendencia temporal confirma que, aunque hay un aumento general en las reseñas a lo largo del tiempo, hay años específicos que contribuyen de manera significativa a este crecimiento."
   ]
  },
  {
   "cell_type": "markdown",
   "metadata": {},
   "source": [
    "### EDA del dataset steam_games\n",
    "\n",
    "En esta sección se desarrolla el Análisis Exploratorio de los Datos del conjunto steam_games que ya pasó por el proceso de ETL."
   ]
  },
  {
   "cell_type": "code",
   "execution_count": 14,
   "metadata": {},
   "outputs": [
    {
     "data": {
      "text/html": [
       "<div>\n",
       "<style scoped>\n",
       "    .dataframe tbody tr th:only-of-type {\n",
       "        vertical-align: middle;\n",
       "    }\n",
       "\n",
       "    .dataframe tbody tr th {\n",
       "        vertical-align: top;\n",
       "    }\n",
       "\n",
       "    .dataframe thead th {\n",
       "        text-align: right;\n",
       "    }\n",
       "</style>\n",
       "<table border=\"1\" class=\"dataframe\">\n",
       "  <thead>\n",
       "    <tr style=\"text-align: right;\">\n",
       "      <th></th>\n",
       "      <th>genres</th>\n",
       "      <th>price</th>\n",
       "      <th>early_access</th>\n",
       "      <th>item_id</th>\n",
       "      <th>release_year</th>\n",
       "      <th>publisher</th>\n",
       "      <th>name</th>\n",
       "      <th>title</th>\n",
       "      <th>developer</th>\n",
       "    </tr>\n",
       "  </thead>\n",
       "  <tbody>\n",
       "    <tr>\n",
       "      <th>0</th>\n",
       "      <td>Action</td>\n",
       "      <td>4.99</td>\n",
       "      <td>False</td>\n",
       "      <td>761140</td>\n",
       "      <td>2018</td>\n",
       "      <td>Kotoshiro</td>\n",
       "      <td>Lost Summoner Kitty</td>\n",
       "      <td>Lost Summoner Kitty</td>\n",
       "      <td>Kotoshiro</td>\n",
       "    </tr>\n",
       "    <tr>\n",
       "      <th>1</th>\n",
       "      <td>Casual</td>\n",
       "      <td>4.99</td>\n",
       "      <td>False</td>\n",
       "      <td>761140</td>\n",
       "      <td>2018</td>\n",
       "      <td>Kotoshiro</td>\n",
       "      <td>Lost Summoner Kitty</td>\n",
       "      <td>Lost Summoner Kitty</td>\n",
       "      <td>Kotoshiro</td>\n",
       "    </tr>\n",
       "    <tr>\n",
       "      <th>2</th>\n",
       "      <td>Indie</td>\n",
       "      <td>4.99</td>\n",
       "      <td>False</td>\n",
       "      <td>761140</td>\n",
       "      <td>2018</td>\n",
       "      <td>Kotoshiro</td>\n",
       "      <td>Lost Summoner Kitty</td>\n",
       "      <td>Lost Summoner Kitty</td>\n",
       "      <td>Kotoshiro</td>\n",
       "    </tr>\n",
       "    <tr>\n",
       "      <th>3</th>\n",
       "      <td>Simulation</td>\n",
       "      <td>4.99</td>\n",
       "      <td>False</td>\n",
       "      <td>761140</td>\n",
       "      <td>2018</td>\n",
       "      <td>Kotoshiro</td>\n",
       "      <td>Lost Summoner Kitty</td>\n",
       "      <td>Lost Summoner Kitty</td>\n",
       "      <td>Kotoshiro</td>\n",
       "    </tr>\n",
       "    <tr>\n",
       "      <th>4</th>\n",
       "      <td>Strategy</td>\n",
       "      <td>4.99</td>\n",
       "      <td>False</td>\n",
       "      <td>761140</td>\n",
       "      <td>2018</td>\n",
       "      <td>Kotoshiro</td>\n",
       "      <td>Lost Summoner Kitty</td>\n",
       "      <td>Lost Summoner Kitty</td>\n",
       "      <td>Kotoshiro</td>\n",
       "    </tr>\n",
       "  </tbody>\n",
       "</table>\n",
       "</div>"
      ],
      "text/plain": [
       "       genres  price  early_access  item_id release_year  publisher  \\\n",
       "0      Action   4.99         False   761140         2018  Kotoshiro   \n",
       "1      Casual   4.99         False   761140         2018  Kotoshiro   \n",
       "2       Indie   4.99         False   761140         2018  Kotoshiro   \n",
       "3  Simulation   4.99         False   761140         2018  Kotoshiro   \n",
       "4    Strategy   4.99         False   761140         2018  Kotoshiro   \n",
       "\n",
       "                  name                title  developer  \n",
       "0  Lost Summoner Kitty  Lost Summoner Kitty  Kotoshiro  \n",
       "1  Lost Summoner Kitty  Lost Summoner Kitty  Kotoshiro  \n",
       "2  Lost Summoner Kitty  Lost Summoner Kitty  Kotoshiro  \n",
       "3  Lost Summoner Kitty  Lost Summoner Kitty  Kotoshiro  \n",
       "4  Lost Summoner Kitty  Lost Summoner Kitty  Kotoshiro  "
      ]
     },
     "execution_count": 14,
     "metadata": {},
     "output_type": "execute_result"
    }
   ],
   "source": [
    "df_steam_games = pd.read_csv(\"steam_games_cleaned.csv\", encoding=\"utf-8\")\n",
    "df_steam_games.head()"
   ]
  },
  {
   "cell_type": "code",
   "execution_count": 15,
   "metadata": {},
   "outputs": [
    {
     "name": "stdout",
     "output_type": "stream",
     "text": [
      "La cantidad de registros que hay son: 71551\n"
     ]
    },
    {
     "data": {
      "text/html": [
       "<div>\n",
       "<style scoped>\n",
       "    .dataframe tbody tr th:only-of-type {\n",
       "        vertical-align: middle;\n",
       "    }\n",
       "\n",
       "    .dataframe tbody tr th {\n",
       "        vertical-align: top;\n",
       "    }\n",
       "\n",
       "    .dataframe thead th {\n",
       "        text-align: right;\n",
       "    }\n",
       "</style>\n",
       "<table border=\"1\" class=\"dataframe\">\n",
       "  <thead>\n",
       "    <tr style=\"text-align: right;\">\n",
       "      <th></th>\n",
       "      <th>nombre_campo</th>\n",
       "      <th>tipo_datos</th>\n",
       "      <th>no_nulos_%</th>\n",
       "      <th>nulos_%</th>\n",
       "      <th>nulos</th>\n",
       "    </tr>\n",
       "  </thead>\n",
       "  <tbody>\n",
       "    <tr>\n",
       "      <th>0</th>\n",
       "      <td>genres</td>\n",
       "      <td>[&lt;class 'str'&gt;]</td>\n",
       "      <td>100.00</td>\n",
       "      <td>0.00</td>\n",
       "      <td>0</td>\n",
       "    </tr>\n",
       "    <tr>\n",
       "      <th>1</th>\n",
       "      <td>price</td>\n",
       "      <td>[&lt;class 'float'&gt;]</td>\n",
       "      <td>100.00</td>\n",
       "      <td>0.00</td>\n",
       "      <td>0</td>\n",
       "    </tr>\n",
       "    <tr>\n",
       "      <th>2</th>\n",
       "      <td>early_access</td>\n",
       "      <td>[&lt;class 'bool'&gt;]</td>\n",
       "      <td>100.00</td>\n",
       "      <td>0.00</td>\n",
       "      <td>0</td>\n",
       "    </tr>\n",
       "    <tr>\n",
       "      <th>3</th>\n",
       "      <td>item_id</td>\n",
       "      <td>[&lt;class 'int'&gt;]</td>\n",
       "      <td>100.00</td>\n",
       "      <td>0.00</td>\n",
       "      <td>0</td>\n",
       "    </tr>\n",
       "    <tr>\n",
       "      <th>4</th>\n",
       "      <td>release_year</td>\n",
       "      <td>[&lt;class 'str'&gt;]</td>\n",
       "      <td>100.00</td>\n",
       "      <td>0.00</td>\n",
       "      <td>0</td>\n",
       "    </tr>\n",
       "    <tr>\n",
       "      <th>5</th>\n",
       "      <td>publisher</td>\n",
       "      <td>[&lt;class 'str'&gt;, &lt;class 'float'&gt;]</td>\n",
       "      <td>99.97</td>\n",
       "      <td>0.03</td>\n",
       "      <td>22</td>\n",
       "    </tr>\n",
       "    <tr>\n",
       "      <th>6</th>\n",
       "      <td>name</td>\n",
       "      <td>[&lt;class 'str'&gt;]</td>\n",
       "      <td>100.00</td>\n",
       "      <td>0.00</td>\n",
       "      <td>0</td>\n",
       "    </tr>\n",
       "    <tr>\n",
       "      <th>7</th>\n",
       "      <td>title</td>\n",
       "      <td>[&lt;class 'str'&gt;]</td>\n",
       "      <td>100.00</td>\n",
       "      <td>0.00</td>\n",
       "      <td>0</td>\n",
       "    </tr>\n",
       "    <tr>\n",
       "      <th>8</th>\n",
       "      <td>developer</td>\n",
       "      <td>[&lt;class 'str'&gt;]</td>\n",
       "      <td>100.00</td>\n",
       "      <td>0.00</td>\n",
       "      <td>0</td>\n",
       "    </tr>\n",
       "  </tbody>\n",
       "</table>\n",
       "</div>"
      ],
      "text/plain": [
       "   nombre_campo                        tipo_datos  no_nulos_%  nulos_%  nulos\n",
       "0        genres                   [<class 'str'>]      100.00     0.00      0\n",
       "1         price                 [<class 'float'>]      100.00     0.00      0\n",
       "2  early_access                  [<class 'bool'>]      100.00     0.00      0\n",
       "3       item_id                   [<class 'int'>]      100.00     0.00      0\n",
       "4  release_year                   [<class 'str'>]      100.00     0.00      0\n",
       "5     publisher  [<class 'str'>, <class 'float'>]       99.97     0.03     22\n",
       "6          name                   [<class 'str'>]      100.00     0.00      0\n",
       "7         title                   [<class 'str'>]      100.00     0.00      0\n",
       "8     developer                   [<class 'str'>]      100.00     0.00      0"
      ]
     },
     "execution_count": 15,
     "metadata": {},
     "output_type": "execute_result"
    }
   ],
   "source": [
    "# La cantidad de registros\n",
    "print(f\"La cantidad de registros que hay son: {df_steam_games.shape[0]}\")\n",
    "# Tipos de datos y existencias de nulos\n",
    "tools.ver_tipo_datos(df_steam_games)"
   ]
  },
  {
   "cell_type": "markdown",
   "metadata": {},
   "source": [
    "Este conjunto de datos tiene 9 columnas y 71551 registros. Para recordar, contiene la información relacionada a cada juego como el precio, el año de lanzamiento, el nombre de la aplicación y del juego, el desarrollador y el publicitador, así como el género. Debemos tener en cuenta que la información se repite porque un juego puede pertenecer a mas de un género."
   ]
  },
  {
   "cell_type": "markdown",
   "metadata": {},
   "source": [
    "### Columnas \"item_id\", \"name\" y \"title\"\n",
    "Estas columnas hacen referencia al identificador único del juego y los nombres de la aplicación y del título del juego. Estos últimos no tienen mayor información que analizar en este momento. Con 'item_id' podemos calcular la cantidad de juegos."
   ]
  },
  {
   "cell_type": "code",
   "execution_count": 16,
   "metadata": {},
   "outputs": [
    {
     "name": "stdout",
     "output_type": "stream",
     "text": [
      "El total de juegos que hay registrados son: 28850\n"
     ]
    }
   ],
   "source": [
    "total_juegos = len(df_steam_games[\"item_id\"].unique())\n",
    "print(f\"El total de juegos que hay registrados son: {total_juegos}\")\n"
   ]
  },
  {
   "cell_type": "markdown",
   "metadata": {},
   "source": [
    "Hay un total de 28850 juegos en la plataforma.\n",
    "\n"
   ]
  },
  {
   "cell_type": "code",
   "execution_count": 19,
   "metadata": {},
   "outputs": [
    {
     "data": {
      "image/png": "[encoded data removed]",
      "text/plain": [
       "<Figure size 800x800 with 1 Axes>"
      ]
     },
     "metadata": {},
     "output_type": "display_data"
    }
   ],
   "source": [
    "plt.figure(figsize=(8, 8))\n",
    "sns.countplot(data=df_steam_games, y=\"genres\", orient=\"H\")\n",
    "plt.show()"
   ]
  },
  {
   "cell_type": "code",
   "execution_count": 44,
   "metadata": {},
   "outputs": [
    {
     "data": {
      "text/html": [
       "<div>\n",
       "<style scoped>\n",
       "    .dataframe tbody tr th:only-of-type {\n",
       "        vertical-align: middle;\n",
       "    }\n",
       "\n",
       "    .dataframe tbody tr th {\n",
       "        vertical-align: top;\n",
       "    }\n",
       "\n",
       "    .dataframe thead th {\n",
       "        text-align: right;\n",
       "    }\n",
       "</style>\n",
       "<table border=\"1\" class=\"dataframe\">\n",
       "  <thead>\n",
       "    <tr style=\"text-align: right;\">\n",
       "      <th></th>\n",
       "      <th>Cantidad</th>\n",
       "      <th>Porcentaje</th>\n",
       "    </tr>\n",
       "    <tr>\n",
       "      <th>genres</th>\n",
       "      <th></th>\n",
       "      <th></th>\n",
       "    </tr>\n",
       "  </thead>\n",
       "  <tbody>\n",
       "    <tr>\n",
       "      <th>Indie</th>\n",
       "      <td>15858</td>\n",
       "      <td>22.16</td>\n",
       "    </tr>\n",
       "    <tr>\n",
       "      <th>Action</th>\n",
       "      <td>11319</td>\n",
       "      <td>15.82</td>\n",
       "    </tr>\n",
       "    <tr>\n",
       "      <th>Casual</th>\n",
       "      <td>8282</td>\n",
       "      <td>11.57</td>\n",
       "    </tr>\n",
       "    <tr>\n",
       "      <th>Adventure</th>\n",
       "      <td>8242</td>\n",
       "      <td>11.52</td>\n",
       "    </tr>\n",
       "    <tr>\n",
       "      <th>Strategy</th>\n",
       "      <td>6957</td>\n",
       "      <td>9.72</td>\n",
       "    </tr>\n",
       "    <tr>\n",
       "      <th>Simulation</th>\n",
       "      <td>6699</td>\n",
       "      <td>9.36</td>\n",
       "    </tr>\n",
       "    <tr>\n",
       "      <th>RPG</th>\n",
       "      <td>5479</td>\n",
       "      <td>7.66</td>\n",
       "    </tr>\n",
       "    <tr>\n",
       "      <th>Free to Play</th>\n",
       "      <td>2031</td>\n",
       "      <td>2.84</td>\n",
       "    </tr>\n",
       "    <tr>\n",
       "      <th>Early Access</th>\n",
       "      <td>1462</td>\n",
       "      <td>2.04</td>\n",
       "    </tr>\n",
       "    <tr>\n",
       "      <th>Sports</th>\n",
       "      <td>1257</td>\n",
       "      <td>1.76</td>\n",
       "    </tr>\n",
       "    <tr>\n",
       "      <th>Massively Multiplayer</th>\n",
       "      <td>1108</td>\n",
       "      <td>1.55</td>\n",
       "    </tr>\n",
       "    <tr>\n",
       "      <th>Racing</th>\n",
       "      <td>1083</td>\n",
       "      <td>1.51</td>\n",
       "    </tr>\n",
       "    <tr>\n",
       "      <th>Design &amp;amp; Illustration</th>\n",
       "      <td>460</td>\n",
       "      <td>0.64</td>\n",
       "    </tr>\n",
       "    <tr>\n",
       "      <th>Utilities</th>\n",
       "      <td>340</td>\n",
       "      <td>0.48</td>\n",
       "    </tr>\n",
       "    <tr>\n",
       "      <th>Web Publishing</th>\n",
       "      <td>268</td>\n",
       "      <td>0.37</td>\n",
       "    </tr>\n",
       "    <tr>\n",
       "      <th>Animation &amp;amp; Modeling</th>\n",
       "      <td>183</td>\n",
       "      <td>0.26</td>\n",
       "    </tr>\n",
       "    <tr>\n",
       "      <th>Education</th>\n",
       "      <td>125</td>\n",
       "      <td>0.17</td>\n",
       "    </tr>\n",
       "    <tr>\n",
       "      <th>Video Production</th>\n",
       "      <td>116</td>\n",
       "      <td>0.16</td>\n",
       "    </tr>\n",
       "    <tr>\n",
       "      <th>Software Training</th>\n",
       "      <td>105</td>\n",
       "      <td>0.15</td>\n",
       "    </tr>\n",
       "    <tr>\n",
       "      <th>Audio Production</th>\n",
       "      <td>93</td>\n",
       "      <td>0.13</td>\n",
       "    </tr>\n",
       "    <tr>\n",
       "      <th>Photo Editing</th>\n",
       "      <td>77</td>\n",
       "      <td>0.11</td>\n",
       "    </tr>\n",
       "    <tr>\n",
       "      <th>Accounting</th>\n",
       "      <td>7</td>\n",
       "      <td>0.01</td>\n",
       "    </tr>\n",
       "  </tbody>\n",
       "</table>\n",
       "</div>"
      ],
      "text/plain": [
       "                           Cantidad  Porcentaje\n",
       "genres                                         \n",
       "Indie                         15858       22.16\n",
       "Action                        11319       15.82\n",
       "Casual                         8282       11.57\n",
       "Adventure                      8242       11.52\n",
       "Strategy                       6957        9.72\n",
       "Simulation                     6699        9.36\n",
       "RPG                            5479        7.66\n",
       "Free to Play                   2031        2.84\n",
       "Early Access                   1462        2.04\n",
       "Sports                         1257        1.76\n",
       "Massively Multiplayer          1108        1.55\n",
       "Racing                         1083        1.51\n",
       "Design &amp; Illustration       460        0.64\n",
       "Utilities                       340        0.48\n",
       "Web Publishing                  268        0.37\n",
       "Animation &amp; Modeling        183        0.26\n",
       "Education                       125        0.17\n",
       "Video Production                116        0.16\n",
       "Software Training               105        0.15\n",
       "Audio Production                 93        0.13\n",
       "Photo Editing                    77        0.11\n",
       "Accounting                        7        0.01"
      ]
     },
     "execution_count": 44,
     "metadata": {},
     "output_type": "execute_result"
    }
   ],
   "source": [
    "tools.resumen_porcentaje(df_steam_games, \"genres\")"
   ]
  },
  {
   "cell_type": "markdown",
   "metadata": {},
   "source": [
    "Los juegos están categorizados mayormente en las categorías Indie, Action, Casual y Adventure. Recordemos que un juego puede tener más de un género asociado."
   ]
  },
  {
   "cell_type": "markdown",
   "metadata": {},
   "source": [
    "# Columna \"release_year\""
   ]
  },
  {
   "cell_type": "code",
   "execution_count": 20,
   "metadata": {},
   "outputs": [
    {
     "data": {
      "text/html": [
       "<div>\n",
       "<style scoped>\n",
       "    .dataframe tbody tr th:only-of-type {\n",
       "        vertical-align: middle;\n",
       "    }\n",
       "\n",
       "    .dataframe tbody tr th {\n",
       "        vertical-align: top;\n",
       "    }\n",
       "\n",
       "    .dataframe thead th {\n",
       "        text-align: right;\n",
       "    }\n",
       "</style>\n",
       "<table border=\"1\" class=\"dataframe\">\n",
       "  <thead>\n",
       "    <tr style=\"text-align: right;\">\n",
       "      <th></th>\n",
       "      <th>Cantidad</th>\n",
       "      <th>Porcentaje</th>\n",
       "    </tr>\n",
       "    <tr>\n",
       "      <th>release_year</th>\n",
       "      <th></th>\n",
       "      <th></th>\n",
       "    </tr>\n",
       "  </thead>\n",
       "  <tbody>\n",
       "    <tr>\n",
       "      <th>2017</th>\n",
       "      <td>24967</td>\n",
       "      <td>34.89</td>\n",
       "    </tr>\n",
       "    <tr>\n",
       "      <th>2016</th>\n",
       "      <td>17667</td>\n",
       "      <td>24.69</td>\n",
       "    </tr>\n",
       "    <tr>\n",
       "      <th>2015</th>\n",
       "      <td>12256</td>\n",
       "      <td>17.13</td>\n",
       "    </tr>\n",
       "    <tr>\n",
       "      <th>2014</th>\n",
       "      <td>6341</td>\n",
       "      <td>8.86</td>\n",
       "    </tr>\n",
       "    <tr>\n",
       "      <th>2013</th>\n",
       "      <td>3016</td>\n",
       "      <td>4.22</td>\n",
       "    </tr>\n",
       "    <tr>\n",
       "      <th>2012</th>\n",
       "      <td>2106</td>\n",
       "      <td>2.94</td>\n",
       "    </tr>\n",
       "    <tr>\n",
       "      <th>2011</th>\n",
       "      <td>986</td>\n",
       "      <td>1.38</td>\n",
       "    </tr>\n",
       "    <tr>\n",
       "      <th>Dato no disponible</th>\n",
       "      <td>850</td>\n",
       "      <td>1.19</td>\n",
       "    </tr>\n",
       "    <tr>\n",
       "      <th>2010</th>\n",
       "      <td>653</td>\n",
       "      <td>0.91</td>\n",
       "    </tr>\n",
       "    <tr>\n",
       "      <th>2009</th>\n",
       "      <td>486</td>\n",
       "      <td>0.68</td>\n",
       "    </tr>\n",
       "  </tbody>\n",
       "</table>\n",
       "</div>"
      ],
      "text/plain": [
       "                    Cantidad  Porcentaje\n",
       "release_year                            \n",
       "2017                   24967       34.89\n",
       "2016                   17667       24.69\n",
       "2015                   12256       17.13\n",
       "2014                    6341        8.86\n",
       "2013                    3016        4.22\n",
       "2012                    2106        2.94\n",
       "2011                     986        1.38\n",
       "Dato no disponible       850        1.19\n",
       "2010                     653        0.91\n",
       "2009                     486        0.68"
      ]
     },
     "execution_count": 20,
     "metadata": {},
     "output_type": "execute_result"
    }
   ],
   "source": [
    "tools.resumen_porcentaje(df_steam_games, \"release_year\")[:10]"
   ]
  },
  {
   "cell_type": "code",
   "execution_count": 22,
   "metadata": {},
   "outputs": [
    {
     "data": {
      "image/png": "[encoded data removed]",
      "text/plain": [
       "<Figure size 1400x500 with 1 Axes>"
      ]
     },
     "metadata": {},
     "output_type": "display_data"
    }
   ],
   "source": [
    "# Frecuencia de cada año\n",
    "conteo_year = df_steam_games[\"release_year\"].value_counts()\n",
    "\n",
    "# Los valores para que \"Datos no disponibles\" queden al principio o al final\n",
    "conteo_year = conteo_year.reindex([\"Dato no disponible\"] + list(conteo_year.index))\n",
    "# Los valores por año\n",
    "conteo_year = conteo_year.sort_index()\n",
    "\n",
    "# Crear la gráfica de barras\n",
    "plt.figure(figsize=(14, 5))\n",
    "sns.barplot(x=conteo_year.index, y=conteo_year.values)\n",
    "plt.xlabel(\"Año de lanzamiento\") ; plt.ylabel('Cantidad de registros') ; plt.title('Registros por año de lanzamiento')\n",
    "plt.xticks(rotation=45, ha=\"right\")\n",
    "plt.tight_layout()\n",
    "plt.show()"
   ]
  },
  {
   "cell_type": "code",
   "execution_count": 23,
   "metadata": {},
   "outputs": [
    {
     "name": "stdout",
     "output_type": "stream",
     "text": [
      "Cantidad de registros antes de 2002: 679\n",
      "Cantidad de registros 'Dato no disponible': 850\n"
     ]
    }
   ],
   "source": [
    "# Registros con valores numéricos en la columna 'release_year'\n",
    "registros_numericos = df_steam_games[df_steam_games[\"release_year\"].str.isnumeric()]\n",
    "# Convierte la columna 'release_anio' a valores enteros\n",
    "registros_numericos[\"release_year\"] = registros_numericos[\"release_year\"].astype(int)\n",
    "# Filtra los registros con años de lanzamiento antes de 2002\n",
    "registros_antes_2002 = registros_numericos[registros_numericos[\"release_year\"] < 2002]\n",
    "\n",
    "print(f\"Cantidad de registros antes de 2002: {len(registros_antes_2002)}\")\n",
    "print(f\"Cantidad de registros 'Dato no disponible': {df_steam_games[df_steam_games['release_year'] == 'Dato no disponible'].shape[0]}\")"
   ]
  },
  {
   "cell_type": "markdown",
   "metadata": {},
   "source": [
    "Se pueden ver 679 juegos lanzados en años anteriores al 2002. Eso podría considerarse como un error porque la plataforma se lanzó en el 2003. Por otra parte, se observan 850 juegos sin la fecha disponible debido a que no estaba especificada o estaba en un formato incorrecto. Luego, podemos ver el crecimiento constante y lento hasta 2012 y luego crece más rápidamente hasta 2017. A partir de allí, la plataforma limitó la forma de obtener las estadísticas, por eso se ven muchos menos registros."
   ]
  },
  {
   "cell_type": "markdown",
   "metadata": {},
   "source": [
    "## Columnas 'publisher' y 'developer'"
   ]
  },
  {
   "cell_type": "code",
   "execution_count": 24,
   "metadata": {},
   "outputs": [
    {
     "data": {
      "image/png": "[encoded data removed]",
      "text/plain": [
       "<Figure size 1200x500 with 2 Axes>"
      ]
     },
     "metadata": {},
     "output_type": "display_data"
    }
   ],
   "source": [
    "# Cantidad de juegos por publisher\n",
    "conteo_publisher = df_steam_games[\"publisher\"].value_counts()\n",
    "\n",
    "# Cantidad de juegos por developer\n",
    "conteo_developer = df_steam_games[\"developer\"].value_counts()\n",
    "\n",
    "# Crear una figura con dos subplots uno al lado del otro\n",
    "plt.figure(figsize=(12, 5))\n",
    "\n",
    "# Primer subplot para los publishers\n",
    "plt.subplot(1, 2, 1)\n",
    "conteo_publisher[:10].plot(kind=\"bar\", color=\"green\")\n",
    "plt.xlabel(\"Publisher\") ; plt.ylabel(\"Cantidad de juegos\") ; plt.title(\"Top 10 Publishers\")\n",
    "\n",
    "# Segundo subplot para los developers\n",
    "plt.subplot(1, 2, 2)\n",
    "conteo_developer[:10].plot(kind=\"bar\", color=\"blue\")\n",
    "plt.xlabel(\"Developer\") ; plt.ylabel(\"Cantidad de Juegos\") ; plt.title(\"Top 10 Developers\")\n",
    "\n",
    "# Muestra y ajustar el espaciado entre subplots\n",
    "plt.tight_layout()\n",
    "plt.show()"
   ]
  },
  {
   "cell_type": "markdown",
   "metadata": {},
   "source": [
    "En el caso de los publicistas de juegos, la mayor cantidad no dispone del dato y en el caso de los desarrolladores, Ubisoft y SmiteWorks son los desarrolladores que más juegos han desarrollado para la plataforma."
   ]
  },
  {
   "cell_type": "markdown",
   "metadata": {},
   "source": [
    "## Columna \"Price\""
   ]
  },
  {
   "cell_type": "code",
   "execution_count": 26,
   "metadata": {},
   "outputs": [
    {
     "data": {
      "image/png": "[encoded data removed]",
      "text/plain": [
       "<Figure size 1400x400 with 2 Axes>"
      ]
     },
     "metadata": {},
     "output_type": "display_data"
    }
   ],
   "source": [
    "# Obtiene los precios para cada juego y hace un dataframe\n",
    "precio_unicos = df_steam_games.groupby(\"item_id\")[\"price\"].unique().reset_index().explode(\"price\")\n",
    "df_precio_unicos = precio_unicos[\"price\"]\n",
    "\n",
    "fig = plt.figure(figsize=(14, 4))\n",
    "\n",
    "ax1 = fig.add_subplot(211)\n",
    "sns.stripplot(data=df_precio_unicos, x=df_precio_unicos, ax=ax1)\n",
    "ax1.set_xlabel(\"Precio\") ; ax1.set_ylabel(\"Cantidad de Juegos\") ; ax1.set_title(\"Distribución de precios de los juegos\")\n",
    "\n",
    "ax2 = fig.add_subplot(212, sharex=ax1)\n",
    "sns.boxplot(data=df_precio_unicos, x=df_precio_unicos, ax=ax2)\n",
    "ax2.set_xlabel(\"Precio\") ; ax2.set_ylabel(\"Cantidad de Juegos\")\n",
    "\n",
    "# Muestra y ajustar el espaciado entre subplots\n",
    "plt.tight_layout()\n",
    "plt.show()"
   ]
  },
  {
   "cell_type": "code",
   "execution_count": 27,
   "metadata": {},
   "outputs": [
    {
     "name": "stdout",
     "output_type": "stream",
     "text": [
      "El precio medio (mediana) de los juegos es de: 4.99\n",
      "El precio promedio (mean) de los juegos es de: 8.62\n",
      "El 75% de los juegos tienen un precio menor de: 9.99\n",
      "El bigote superior de la variable price se ubica en: 21.99\n",
      "Hay 1746 valores atípicos en la variable price\n"
     ]
    }
   ],
   "source": [
    "estadisticas = df_precio_unicos.astype(float).describe()\n",
    "print(f\"El precio medio (mediana) de los juegos es de: {estadisticas[5]}\")\n",
    "print(f\"El precio promedio (mean) de los juegos es de: {round(estadisticas[1],2)}\")\n",
    "print(f\"El 75% de los juegos tienen un precio menor de: {estadisticas[6]}\")\n",
    "tools.bigote_max(pd.DataFrame(df_precio_unicos.astype(float))[\"price\"])"
   ]
  },
  {
   "cell_type": "markdown",
   "metadata": {},
   "source": [
    "Podemos visualizar que casi el 50% de los juegos tienen precios entre 0 y los 4.99 dólares y el 75% de los juegos tienen precios inferior a los 9.99 dolares. Se Observan 1746 valores que se pueden considerar atípicos, con precios superior a los 21.99 dolares, pero sin dudas hay algunos juegos de más de 250 dolares que pueden considerarse errores en los precios."
   ]
  },
  {
   "cell_type": "markdown",
   "metadata": {},
   "source": [
    "## EDA del dataset users_items\n",
    "En esta sección se desarrolla el Análisis Exploratorio de los Datos del conjunto users_items que ya pasó por el proceso de ETL."
   ]
  },
  {
   "cell_type": "code",
   "execution_count": 29,
   "metadata": {},
   "outputs": [
    {
     "data": {
      "text/html": [
       "<div>\n",
       "<style scoped>\n",
       "    .dataframe tbody tr th:only-of-type {\n",
       "        vertical-align: middle;\n",
       "    }\n",
       "\n",
       "    .dataframe tbody tr th {\n",
       "        vertical-align: top;\n",
       "    }\n",
       "\n",
       "    .dataframe thead th {\n",
       "        text-align: right;\n",
       "    }\n",
       "</style>\n",
       "<table border=\"1\" class=\"dataframe\">\n",
       "  <thead>\n",
       "    <tr style=\"text-align: right;\">\n",
       "      <th></th>\n",
       "      <th>item_id</th>\n",
       "      <th>item_name</th>\n",
       "      <th>items_count</th>\n",
       "      <th>user_id</th>\n",
       "      <th>user_url</th>\n",
       "      <th>played_hours</th>\n",
       "    </tr>\n",
       "  </thead>\n",
       "  <tbody>\n",
       "    <tr>\n",
       "      <th>0</th>\n",
       "      <td>10</td>\n",
       "      <td>Counter-Strike</td>\n",
       "      <td>277</td>\n",
       "      <td>76561197970982479</td>\n",
       "      <td>http://steamcommunity.com/profiles/76561197970...</td>\n",
       "      <td>0.10</td>\n",
       "    </tr>\n",
       "    <tr>\n",
       "      <th>1</th>\n",
       "      <td>30</td>\n",
       "      <td>Day of Defeat</td>\n",
       "      <td>277</td>\n",
       "      <td>76561197970982479</td>\n",
       "      <td>http://steamcommunity.com/profiles/76561197970...</td>\n",
       "      <td>0.12</td>\n",
       "    </tr>\n",
       "    <tr>\n",
       "      <th>2</th>\n",
       "      <td>300</td>\n",
       "      <td>Day of Defeat: Source</td>\n",
       "      <td>277</td>\n",
       "      <td>76561197970982479</td>\n",
       "      <td>http://steamcommunity.com/profiles/76561197970...</td>\n",
       "      <td>78.88</td>\n",
       "    </tr>\n",
       "    <tr>\n",
       "      <th>3</th>\n",
       "      <td>240</td>\n",
       "      <td>Counter-Strike: Source</td>\n",
       "      <td>277</td>\n",
       "      <td>76561197970982479</td>\n",
       "      <td>http://steamcommunity.com/profiles/76561197970...</td>\n",
       "      <td>30.88</td>\n",
       "    </tr>\n",
       "    <tr>\n",
       "      <th>4</th>\n",
       "      <td>3830</td>\n",
       "      <td>Psychonauts</td>\n",
       "      <td>277</td>\n",
       "      <td>76561197970982479</td>\n",
       "      <td>http://steamcommunity.com/profiles/76561197970...</td>\n",
       "      <td>5.55</td>\n",
       "    </tr>\n",
       "  </tbody>\n",
       "</table>\n",
       "</div>"
      ],
      "text/plain": [
       "   item_id               item_name  items_count            user_id  \\\n",
       "0       10          Counter-Strike          277  76561197970982479   \n",
       "1       30           Day of Defeat          277  76561197970982479   \n",
       "2      300   Day of Defeat: Source          277  76561197970982479   \n",
       "3      240  Counter-Strike: Source          277  76561197970982479   \n",
       "4     3830             Psychonauts          277  76561197970982479   \n",
       "\n",
       "                                            user_url  played_hours  \n",
       "0  http://steamcommunity.com/profiles/76561197970...          0.10  \n",
       "1  http://steamcommunity.com/profiles/76561197970...          0.12  \n",
       "2  http://steamcommunity.com/profiles/76561197970...         78.88  \n",
       "3  http://steamcommunity.com/profiles/76561197970...         30.88  \n",
       "4  http://steamcommunity.com/profiles/76561197970...          5.55  "
      ]
     },
     "execution_count": 29,
     "metadata": {},
     "output_type": "execute_result"
    }
   ],
   "source": [
    "df_users_items = pd.read_csv(\"users_items_cleaned.csv\", encoding=\"utf-8\")\n",
    "df_users_items.head()"
   ]
  },
  {
   "cell_type": "code",
   "execution_count": 30,
   "metadata": {},
   "outputs": [
    {
     "name": "stdout",
     "output_type": "stream",
     "text": [
      "La cantidad de registros que hay son: 3246375\n"
     ]
    },
    {
     "data": {
      "text/html": [
       "<div>\n",
       "<style scoped>\n",
       "    .dataframe tbody tr th:only-of-type {\n",
       "        vertical-align: middle;\n",
       "    }\n",
       "\n",
       "    .dataframe tbody tr th {\n",
       "        vertical-align: top;\n",
       "    }\n",
       "\n",
       "    .dataframe thead th {\n",
       "        text-align: right;\n",
       "    }\n",
       "</style>\n",
       "<table border=\"1\" class=\"dataframe\">\n",
       "  <thead>\n",
       "    <tr style=\"text-align: right;\">\n",
       "      <th></th>\n",
       "      <th>nombre_campo</th>\n",
       "      <th>tipo_datos</th>\n",
       "      <th>no_nulos_%</th>\n",
       "      <th>nulos_%</th>\n",
       "      <th>nulos</th>\n",
       "    </tr>\n",
       "  </thead>\n",
       "  <tbody>\n",
       "    <tr>\n",
       "      <th>0</th>\n",
       "      <td>item_id</td>\n",
       "      <td>[&lt;class 'int'&gt;]</td>\n",
       "      <td>100.0</td>\n",
       "      <td>0.0</td>\n",
       "      <td>0</td>\n",
       "    </tr>\n",
       "    <tr>\n",
       "      <th>1</th>\n",
       "      <td>item_name</td>\n",
       "      <td>[&lt;class 'str'&gt;]</td>\n",
       "      <td>100.0</td>\n",
       "      <td>0.0</td>\n",
       "      <td>0</td>\n",
       "    </tr>\n",
       "    <tr>\n",
       "      <th>2</th>\n",
       "      <td>items_count</td>\n",
       "      <td>[&lt;class 'int'&gt;]</td>\n",
       "      <td>100.0</td>\n",
       "      <td>0.0</td>\n",
       "      <td>0</td>\n",
       "    </tr>\n",
       "    <tr>\n",
       "      <th>3</th>\n",
       "      <td>user_id</td>\n",
       "      <td>[&lt;class 'str'&gt;]</td>\n",
       "      <td>100.0</td>\n",
       "      <td>0.0</td>\n",
       "      <td>0</td>\n",
       "    </tr>\n",
       "    <tr>\n",
       "      <th>4</th>\n",
       "      <td>user_url</td>\n",
       "      <td>[&lt;class 'str'&gt;]</td>\n",
       "      <td>100.0</td>\n",
       "      <td>0.0</td>\n",
       "      <td>0</td>\n",
       "    </tr>\n",
       "    <tr>\n",
       "      <th>5</th>\n",
       "      <td>played_hours</td>\n",
       "      <td>[&lt;class 'float'&gt;]</td>\n",
       "      <td>100.0</td>\n",
       "      <td>0.0</td>\n",
       "      <td>0</td>\n",
       "    </tr>\n",
       "  </tbody>\n",
       "</table>\n",
       "</div>"
      ],
      "text/plain": [
       "   nombre_campo         tipo_datos  no_nulos_%  nulos_%  nulos\n",
       "0       item_id    [<class 'int'>]       100.0      0.0      0\n",
       "1     item_name    [<class 'str'>]       100.0      0.0      0\n",
       "2   items_count    [<class 'int'>]       100.0      0.0      0\n",
       "3       user_id    [<class 'str'>]       100.0      0.0      0\n",
       "4      user_url    [<class 'str'>]       100.0      0.0      0\n",
       "5  played_hours  [<class 'float'>]       100.0      0.0      0"
      ]
     },
     "execution_count": 30,
     "metadata": {},
     "output_type": "execute_result"
    }
   ],
   "source": [
    "# Cantidad de registros\n",
    "print(f\"La cantidad de registros que hay son: {df_users_items.shape[0]}\")\n",
    "# Tipos de datos y existencias de nulos\n",
    "tools.ver_tipo_datos(df_users_items)"
   ]
  },
  {
   "cell_type": "markdown",
   "metadata": {},
   "source": [
    "Este conjunto de datos tiene 6 columnas y 3246375 registros. Recordemos que contiene la información relacionada los usuarios y los juegos que consumen como el tiempo acumulado (en minutos) que han jugado a un juego, la cantidad de items que consumen así como los identificadores de los juegos que consumen y del propio usuario y la url del perfil del mismo."
   ]
  },
  {
   "cell_type": "markdown",
   "metadata": {},
   "source": [
    "\n",
    "## Columna 'items_count'\n",
    "Esta columna indica la cantidad de juegos que consumen o compraron alguna vez los usuarios."
   ]
  },
  {
   "cell_type": "code",
   "execution_count": 31,
   "metadata": {},
   "outputs": [
    {
     "data": {
      "image/png": "[encoded data removed]",
      "text/plain": [
       "<Figure size 1400x400 with 2 Axes>"
      ]
     },
     "metadata": {},
     "output_type": "display_data"
    }
   ],
   "source": [
    "# Agrupa por usuario la cantidad de items, lo conviente en data frame y los ordena de mayor a menor\n",
    "items_count_user = df_users_items.groupby(\"user_id\")[\"items_count\"].unique().explode()\n",
    "items_count_user = pd.DataFrame(items_count_user)\n",
    "items_count_user_o = items_count_user.sort_values(\"items_count\", ascending=False)\n",
    "\n",
    "fig = plt.figure(figsize=(14, 4))\n",
    "\n",
    "ax1 = fig.add_subplot(211)\n",
    "sns.stripplot(data=items_count_user_o, x=\"items_count\", ax=ax1)\n",
    "ax1.set_xlabel(\"items_count\") ; ax1.set_title('Cantidad de items por usuario')\n",
    "\n",
    "ax2 = fig.add_subplot(212, sharex=ax1)\n",
    "sns.boxplot(data=items_count_user_o, x=\"items_count\", ax=ax2)\n",
    "ax2.set_xlabel(\"items_count\")\n",
    "\n",
    "# Muestra y ajustar el espaciado entre subplots\n",
    "plt.tight_layout()\n",
    "plt.show()"
   ]
  },
  {
   "cell_type": "code",
   "execution_count": 33,
   "metadata": {},
   "outputs": [
    {
     "name": "stdout",
     "output_type": "stream",
     "text": [
      "El precio medio (mediana) de los juegos es de: 42.0\n",
      "El precio promedio (mean) de los juegos es de: 74.41\n",
      "El 75% de los juegos tienen un precio menor de: 90.0\n",
      "El bigote superior de la variable items_count se ubica en: 201.0\n",
      "Hay 4727 valores atípicos en la variable items_count\n"
     ]
    }
   ],
   "source": [
    "estadisticas = items_count_user[\"items_count\"].astype(float).describe()\n",
    "print(f\"El precio medio (mediana) de los juegos es de: {round(estadisticas[5],2)}\")\n",
    "print(f\"El precio promedio (mean) de los juegos es de: {round(estadisticas[1],2)}\")\n",
    "print(f\"El 75% de los juegos tienen un precio menor de: {round(estadisticas[6],2)}\")\n",
    "tools.bigote_max(items_count_user.astype(float)[\"items_count\"])"
   ]
  },
  {
   "cell_type": "code",
   "execution_count": 34,
   "metadata": {},
   "outputs": [
    {
     "data": {
      "text/plain": [
       "<Figure size 1400x500 with 0 Axes>"
      ]
     },
     "metadata": {},
     "output_type": "display_data"
    },
    {
     "data": {
      "image/png": "[encoded data removed]",
      "text/plain": [
       "<Figure size 640x480 with 1 Axes>"
      ]
     },
     "metadata": {},
     "output_type": "display_data"
    }
   ],
   "source": [
    "# Grafica cantidad de item por usuarios\n",
    "plt.figure(figsize=(14, 5))\n",
    "items_count_user[:20].plot(kind=\"bar\")\n",
    "plt.xlabel(\"Usuario\") ; plt.ylabel(\"Cantidad de juegos\") ; plt.title(\"Top 20 item_count por usuario\")\n",
    "plt.show()"
   ]
  },
  {
   "cell_type": "markdown",
   "metadata": {},
   "source": [
    "Se puede ver que el usuario que mas cantidad de juegos a consumido ronda los 8000 juegos, pero el 75% de los usuarios ha adquirido menos de 87 items. Se pueden ver 4727 usuarios que hay adquirido más de 196 items que podrían considerarse como atípicos."
   ]
  },
  {
   "cell_type": "markdown",
   "metadata": {},
   "source": [
    "## Variables a usar en el modelo de recomendación\n",
    "Para el modelo de recomndación se busca como resultado la recomendación un una lista de 5 juegos a partir de indicar el nombre de un juego o el id de un usuario, basado en un puntaje que se debe decidir cómo crearlo. Para ello, revisaremos los dataFrame df_reviews y df_items analizados anteriormente."
   ]
  },
  {
   "cell_type": "code",
   "execution_count": 35,
   "metadata": {},
   "outputs": [],
   "source": [
    "df_user_reviews = pd.read_csv(\"df_user_reviews_FE.csv\", encoding=\"utf-8\")\n",
    "df_users_items = pd.read_csv(\"users_items_cleaned.csv\", encoding=\"utf-8\")"
   ]
  },
  {
   "cell_type": "code",
   "execution_count": 36,
   "metadata": {},
   "outputs": [
    {
     "data": {
      "text/html": [
       "<div>\n",
       "<style scoped>\n",
       "    .dataframe tbody tr th:only-of-type {\n",
       "        vertical-align: middle;\n",
       "    }\n",
       "\n",
       "    .dataframe tbody tr th {\n",
       "        vertical-align: top;\n",
       "    }\n",
       "\n",
       "    .dataframe thead th {\n",
       "        text-align: right;\n",
       "    }\n",
       "</style>\n",
       "<table border=\"1\" class=\"dataframe\">\n",
       "  <thead>\n",
       "    <tr style=\"text-align: right;\">\n",
       "      <th></th>\n",
       "      <th>user_id</th>\n",
       "      <th>item_id</th>\n",
       "      <th>reviews_helpful</th>\n",
       "      <th>reviews_recommend</th>\n",
       "      <th>year</th>\n",
       "      <th>sentiment_analysis</th>\n",
       "      <th>release_year</th>\n",
       "    </tr>\n",
       "  </thead>\n",
       "  <tbody>\n",
       "    <tr>\n",
       "      <th>0</th>\n",
       "      <td>--000--</td>\n",
       "      <td>218230</td>\n",
       "      <td>No ratings yet</td>\n",
       "      <td>True</td>\n",
       "      <td>2014</td>\n",
       "      <td>2</td>\n",
       "      <td>2012</td>\n",
       "    </tr>\n",
       "    <tr>\n",
       "      <th>1</th>\n",
       "      <td>112asdasfasdasd</td>\n",
       "      <td>218230</td>\n",
       "      <td>No ratings yet</td>\n",
       "      <td>True</td>\n",
       "      <td>2013</td>\n",
       "      <td>1</td>\n",
       "      <td>2012</td>\n",
       "    </tr>\n",
       "    <tr>\n",
       "      <th>2</th>\n",
       "      <td>1234567890192837465</td>\n",
       "      <td>218230</td>\n",
       "      <td>No ratings yet</td>\n",
       "      <td>True</td>\n",
       "      <td>2014</td>\n",
       "      <td>1</td>\n",
       "      <td>2012</td>\n",
       "    </tr>\n",
       "    <tr>\n",
       "      <th>3</th>\n",
       "      <td>2828838282</td>\n",
       "      <td>218230</td>\n",
       "      <td>No ratings yet</td>\n",
       "      <td>True</td>\n",
       "      <td>2012</td>\n",
       "      <td>1</td>\n",
       "      <td>2012</td>\n",
       "    </tr>\n",
       "    <tr>\n",
       "      <th>4</th>\n",
       "      <td>2sd31</td>\n",
       "      <td>218230</td>\n",
       "      <td>No ratings yet</td>\n",
       "      <td>True</td>\n",
       "      <td>2013</td>\n",
       "      <td>1</td>\n",
       "      <td>2012</td>\n",
       "    </tr>\n",
       "  </tbody>\n",
       "</table>\n",
       "</div>"
      ],
      "text/plain": [
       "               user_id  item_id reviews_helpful  reviews_recommend  year  \\\n",
       "0              --000--   218230  No ratings yet               True  2014   \n",
       "1      112asdasfasdasd   218230  No ratings yet               True  2013   \n",
       "2  1234567890192837465   218230  No ratings yet               True  2014   \n",
       "3           2828838282   218230  No ratings yet               True  2012   \n",
       "4                2sd31   218230  No ratings yet               True  2013   \n",
       "\n",
       "   sentiment_analysis release_year  \n",
       "0                   2         2012  \n",
       "1                   1         2012  \n",
       "2                   1         2012  \n",
       "3                   1         2012  \n",
       "4                   1         2012  "
      ]
     },
     "execution_count": 36,
     "metadata": {},
     "output_type": "execute_result"
    }
   ],
   "source": [
    "df_user_reviews.head()"
   ]
  },
  {
   "cell_type": "code",
   "execution_count": 37,
   "metadata": {},
   "outputs": [
    {
     "data": {
      "text/html": [
       "<div>\n",
       "<style scoped>\n",
       "    .dataframe tbody tr th:only-of-type {\n",
       "        vertical-align: middle;\n",
       "    }\n",
       "\n",
       "    .dataframe tbody tr th {\n",
       "        vertical-align: top;\n",
       "    }\n",
       "\n",
       "    .dataframe thead th {\n",
       "        text-align: right;\n",
       "    }\n",
       "</style>\n",
       "<table border=\"1\" class=\"dataframe\">\n",
       "  <thead>\n",
       "    <tr style=\"text-align: right;\">\n",
       "      <th></th>\n",
       "      <th>item_id</th>\n",
       "      <th>item_name</th>\n",
       "      <th>items_count</th>\n",
       "      <th>user_id</th>\n",
       "      <th>user_url</th>\n",
       "      <th>played_hours</th>\n",
       "    </tr>\n",
       "  </thead>\n",
       "  <tbody>\n",
       "    <tr>\n",
       "      <th>0</th>\n",
       "      <td>10</td>\n",
       "      <td>Counter-Strike</td>\n",
       "      <td>277</td>\n",
       "      <td>76561197970982479</td>\n",
       "      <td>http://steamcommunity.com/profiles/76561197970...</td>\n",
       "      <td>0.10</td>\n",
       "    </tr>\n",
       "    <tr>\n",
       "      <th>1</th>\n",
       "      <td>30</td>\n",
       "      <td>Day of Defeat</td>\n",
       "      <td>277</td>\n",
       "      <td>76561197970982479</td>\n",
       "      <td>http://steamcommunity.com/profiles/76561197970...</td>\n",
       "      <td>0.12</td>\n",
       "    </tr>\n",
       "    <tr>\n",
       "      <th>2</th>\n",
       "      <td>300</td>\n",
       "      <td>Day of Defeat: Source</td>\n",
       "      <td>277</td>\n",
       "      <td>76561197970982479</td>\n",
       "      <td>http://steamcommunity.com/profiles/76561197970...</td>\n",
       "      <td>78.88</td>\n",
       "    </tr>\n",
       "    <tr>\n",
       "      <th>3</th>\n",
       "      <td>240</td>\n",
       "      <td>Counter-Strike: Source</td>\n",
       "      <td>277</td>\n",
       "      <td>76561197970982479</td>\n",
       "      <td>http://steamcommunity.com/profiles/76561197970...</td>\n",
       "      <td>30.88</td>\n",
       "    </tr>\n",
       "    <tr>\n",
       "      <th>4</th>\n",
       "      <td>3830</td>\n",
       "      <td>Psychonauts</td>\n",
       "      <td>277</td>\n",
       "      <td>76561197970982479</td>\n",
       "      <td>http://steamcommunity.com/profiles/76561197970...</td>\n",
       "      <td>5.55</td>\n",
       "    </tr>\n",
       "  </tbody>\n",
       "</table>\n",
       "</div>"
      ],
      "text/plain": [
       "   item_id               item_name  items_count            user_id  \\\n",
       "0       10          Counter-Strike          277  76561197970982479   \n",
       "1       30           Day of Defeat          277  76561197970982479   \n",
       "2      300   Day of Defeat: Source          277  76561197970982479   \n",
       "3      240  Counter-Strike: Source          277  76561197970982479   \n",
       "4     3830             Psychonauts          277  76561197970982479   \n",
       "\n",
       "                                            user_url  played_hours  \n",
       "0  http://steamcommunity.com/profiles/76561197970...          0.10  \n",
       "1  http://steamcommunity.com/profiles/76561197970...          0.12  \n",
       "2  http://steamcommunity.com/profiles/76561197970...         78.88  \n",
       "3  http://steamcommunity.com/profiles/76561197970...         30.88  \n",
       "4  http://steamcommunity.com/profiles/76561197970...          5.55  "
      ]
     },
     "execution_count": 37,
     "metadata": {},
     "output_type": "execute_result"
    }
   ],
   "source": [
    "df_users_items.head()"
   ]
  },
  {
   "cell_type": "markdown",
   "metadata": {},
   "source": [
    "Con los datos disponible, crearemos una variable llamada puntaje para los juegos a partir de considerar el análisis de sentimiento de las reviews para cada juego y las recomendaciones del usuario para ese juego. Recordar que el análisis de sentimiento está calificado como 0 (sentimiento negativo), 1 (sentimiento neutral) y 2 (sentimiento positivo) y las recomendaciones al juego son True (cuando lo recomienda) y False (cuando no recomienda el juego). Con esta información buscaremos hacer un puntaje del 1 al 5, siendo el 1 un juego no recomendado que cuentan con reviews con sentimientos negativos y 5 un juego recomendado y con reviews positivos. Se considera esta escala en función de la combinación de las dos variables de esta manera:\n",
    "\n",
    "1 si el análisis de sentimiento es negativo ya sea que este recomendado o no (True o False)\n",
    "2 si el análisis de sentimiento es neutral y no es recomendado (False)\n",
    "3 si el análisis de sentimiento es neutral pero es recomendado (True)\n",
    "4 si el análisis de sentimiento es positivo y no es recomendado (False)\n",
    "5 si el análisis de sentimiento es positivo y es recomendado (True)\n",
    "Con esto, armaremos la siguiente función:"
   ]
  },
  {
   "cell_type": "code",
   "execution_count": 38,
   "metadata": {},
   "outputs": [],
   "source": [
    "def calcula_rating(fila):\n",
    "    '''\n",
    "    Calcula una calificación basada en el análisis de sentimientos y la recomendación de review de juegos realizado por los usuarios.\n",
    "\n",
    "    Parámetros:\n",
    "    row (dict): Un diccionario que contiene las siguientes claves:\n",
    "        - \"sentiment_analysis\" (int): La puntuación del análisis de sentimientos (0, 1 o 2).\n",
    "        - \"reviews_recommend\" (bool): Indica si las reseñas recomiendan.\n",
    "\n",
    "    Devuelve:\n",
    "        int o None: La calificación calculada como un número entero entre 1 y 5, o None si las entradas son inválidas.\n",
    "    '''\n",
    "    if fila[\"sentiment_analysis\"] == 0 and not fila[\"reviews_recommend\"]:\n",
    "        return 1\n",
    "    elif fila[\"sentiment_analysis\"] == 0 and fila[\"reviews_recommend\"]:\n",
    "        return 1\n",
    "    elif fila[\"sentiment_analysis\"] == 1 and not fila[\"reviews_recommend\"]:\n",
    "        return 2\n",
    "    elif fila[\"sentiment_analysis\"] == 1 and fila[\"reviews_recommend\"]:\n",
    "        return 3\n",
    "    elif fila[\"sentiment_analysis\"] == 2 and not fila[\"reviews_recommend\"]:\n",
    "        return 4\n",
    "    elif fila[\"sentiment_analysis\"] == 2 and fila[\"reviews_recommend\"]:\n",
    "        return 5\n",
    "    else:\n",
    "        return None"
   ]
  },
  {
   "cell_type": "markdown",
   "metadata": {},
   "source": [
    "Aplicamos esta función en una nueva columna sobre el dataframe df_user_reviews"
   ]
  },
  {
   "cell_type": "code",
   "execution_count": 39,
   "metadata": {},
   "outputs": [
    {
     "data": {
      "text/html": [
       "<div>\n",
       "<style scoped>\n",
       "    .dataframe tbody tr th:only-of-type {\n",
       "        vertical-align: middle;\n",
       "    }\n",
       "\n",
       "    .dataframe tbody tr th {\n",
       "        vertical-align: top;\n",
       "    }\n",
       "\n",
       "    .dataframe thead th {\n",
       "        text-align: right;\n",
       "    }\n",
       "</style>\n",
       "<table border=\"1\" class=\"dataframe\">\n",
       "  <thead>\n",
       "    <tr style=\"text-align: right;\">\n",
       "      <th></th>\n",
       "      <th>user_id</th>\n",
       "      <th>item_id</th>\n",
       "      <th>reviews_helpful</th>\n",
       "      <th>reviews_recommend</th>\n",
       "      <th>year</th>\n",
       "      <th>sentiment_analysis</th>\n",
       "      <th>release_year</th>\n",
       "      <th>puntaje</th>\n",
       "    </tr>\n",
       "  </thead>\n",
       "  <tbody>\n",
       "    <tr>\n",
       "      <th>0</th>\n",
       "      <td>--000--</td>\n",
       "      <td>218230</td>\n",
       "      <td>No ratings yet</td>\n",
       "      <td>True</td>\n",
       "      <td>2014</td>\n",
       "      <td>2</td>\n",
       "      <td>2012</td>\n",
       "      <td>5</td>\n",
       "    </tr>\n",
       "    <tr>\n",
       "      <th>1</th>\n",
       "      <td>112asdasfasdasd</td>\n",
       "      <td>218230</td>\n",
       "      <td>No ratings yet</td>\n",
       "      <td>True</td>\n",
       "      <td>2013</td>\n",
       "      <td>1</td>\n",
       "      <td>2012</td>\n",
       "      <td>3</td>\n",
       "    </tr>\n",
       "    <tr>\n",
       "      <th>2</th>\n",
       "      <td>1234567890192837465</td>\n",
       "      <td>218230</td>\n",
       "      <td>No ratings yet</td>\n",
       "      <td>True</td>\n",
       "      <td>2014</td>\n",
       "      <td>1</td>\n",
       "      <td>2012</td>\n",
       "      <td>3</td>\n",
       "    </tr>\n",
       "    <tr>\n",
       "      <th>3</th>\n",
       "      <td>2828838282</td>\n",
       "      <td>218230</td>\n",
       "      <td>No ratings yet</td>\n",
       "      <td>True</td>\n",
       "      <td>2012</td>\n",
       "      <td>1</td>\n",
       "      <td>2012</td>\n",
       "      <td>3</td>\n",
       "    </tr>\n",
       "    <tr>\n",
       "      <th>4</th>\n",
       "      <td>2sd31</td>\n",
       "      <td>218230</td>\n",
       "      <td>No ratings yet</td>\n",
       "      <td>True</td>\n",
       "      <td>2013</td>\n",
       "      <td>1</td>\n",
       "      <td>2012</td>\n",
       "      <td>3</td>\n",
       "    </tr>\n",
       "  </tbody>\n",
       "</table>\n",
       "</div>"
      ],
      "text/plain": [
       "               user_id  item_id reviews_helpful  reviews_recommend  year  \\\n",
       "0              --000--   218230  No ratings yet               True  2014   \n",
       "1      112asdasfasdasd   218230  No ratings yet               True  2013   \n",
       "2  1234567890192837465   218230  No ratings yet               True  2014   \n",
       "3           2828838282   218230  No ratings yet               True  2012   \n",
       "4                2sd31   218230  No ratings yet               True  2013   \n",
       "\n",
       "   sentiment_analysis release_year  puntaje  \n",
       "0                   2         2012        5  \n",
       "1                   1         2012        3  \n",
       "2                   1         2012        3  \n",
       "3                   1         2012        3  \n",
       "4                   1         2012        3  "
      ]
     },
     "execution_count": 39,
     "metadata": {},
     "output_type": "execute_result"
    }
   ],
   "source": [
    "df_user_reviews[\"puntaje\"] = df_user_reviews.apply(calcula_rating, axis=1)\n",
    "df_user_reviews.head()"
   ]
  },
  {
   "cell_type": "markdown",
   "metadata": {},
   "source": [
    "Creamos un nuevo dataframe dejando solo las columnas \"user_id\", \"item_id\" y \"puntaje\" y se reserva."
   ]
  },
  {
   "cell_type": "code",
   "execution_count": 40,
   "metadata": {},
   "outputs": [
    {
     "data": {
      "text/html": [
       "<div>\n",
       "<style scoped>\n",
       "    .dataframe tbody tr th:only-of-type {\n",
       "        vertical-align: middle;\n",
       "    }\n",
       "\n",
       "    .dataframe tbody tr th {\n",
       "        vertical-align: top;\n",
       "    }\n",
       "\n",
       "    .dataframe thead th {\n",
       "        text-align: right;\n",
       "    }\n",
       "</style>\n",
       "<table border=\"1\" class=\"dataframe\">\n",
       "  <thead>\n",
       "    <tr style=\"text-align: right;\">\n",
       "      <th></th>\n",
       "      <th>user_id</th>\n",
       "      <th>item_id</th>\n",
       "      <th>puntaje</th>\n",
       "    </tr>\n",
       "  </thead>\n",
       "  <tbody>\n",
       "    <tr>\n",
       "      <th>0</th>\n",
       "      <td>--000--</td>\n",
       "      <td>218230</td>\n",
       "      <td>5</td>\n",
       "    </tr>\n",
       "    <tr>\n",
       "      <th>1</th>\n",
       "      <td>112asdasfasdasd</td>\n",
       "      <td>218230</td>\n",
       "      <td>3</td>\n",
       "    </tr>\n",
       "  </tbody>\n",
       "</table>\n",
       "</div>"
      ],
      "text/plain": [
       "           user_id  item_id  puntaje\n",
       "0          --000--   218230        5\n",
       "1  112asdasfasdasd   218230        3"
      ]
     },
     "execution_count": 40,
     "metadata": {},
     "output_type": "execute_result"
    }
   ],
   "source": [
    "df1 = df_user_reviews[[\"user_id\", \"item_id\", \"puntaje\"]]\n",
    "df1.head(2)"
   ]
  },
  {
   "cell_type": "markdown",
   "metadata": {},
   "source": [
    "Creamos otro datafrma que contenga unicamente los \"item_id\" y los nombres de los juego."
   ]
  },
  {
   "cell_type": "code",
   "execution_count": 41,
   "metadata": {},
   "outputs": [
    {
     "name": "stdout",
     "output_type": "stream",
     "text": [
      "Hay un total de 10050 juegos\n"
     ]
    },
    {
     "data": {
      "text/html": [
       "<div>\n",
       "<style scoped>\n",
       "    .dataframe tbody tr th:only-of-type {\n",
       "        vertical-align: middle;\n",
       "    }\n",
       "\n",
       "    .dataframe tbody tr th {\n",
       "        vertical-align: top;\n",
       "    }\n",
       "\n",
       "    .dataframe thead th {\n",
       "        text-align: right;\n",
       "    }\n",
       "</style>\n",
       "<table border=\"1\" class=\"dataframe\">\n",
       "  <thead>\n",
       "    <tr style=\"text-align: right;\">\n",
       "      <th></th>\n",
       "      <th>item_id</th>\n",
       "      <th>item_name</th>\n",
       "    </tr>\n",
       "  </thead>\n",
       "  <tbody>\n",
       "    <tr>\n",
       "      <th>0</th>\n",
       "      <td>10</td>\n",
       "      <td>Counter-Strike</td>\n",
       "    </tr>\n",
       "    <tr>\n",
       "      <th>1</th>\n",
       "      <td>30</td>\n",
       "      <td>Day of Defeat</td>\n",
       "    </tr>\n",
       "    <tr>\n",
       "      <th>2</th>\n",
       "      <td>300</td>\n",
       "      <td>Day of Defeat: Source</td>\n",
       "    </tr>\n",
       "    <tr>\n",
       "      <th>3</th>\n",
       "      <td>240</td>\n",
       "      <td>Counter-Strike: Source</td>\n",
       "    </tr>\n",
       "    <tr>\n",
       "      <th>4</th>\n",
       "      <td>3830</td>\n",
       "      <td>Psychonauts</td>\n",
       "    </tr>\n",
       "  </tbody>\n",
       "</table>\n",
       "</div>"
      ],
      "text/plain": [
       "   item_id               item_name\n",
       "0       10          Counter-Strike\n",
       "1       30           Day of Defeat\n",
       "2      300   Day of Defeat: Source\n",
       "3      240  Counter-Strike: Source\n",
       "4     3830             Psychonauts"
      ]
     },
     "execution_count": 41,
     "metadata": {},
     "output_type": "execute_result"
    }
   ],
   "source": [
    "df2 = df_users_items[['item_id', 'item_name']]\n",
    "# Se borran los dumplicados\n",
    "df2 = df2.drop_duplicates()\n",
    "# Cantidad de juegos\n",
    "print(f'Hay un total de {len(df2)} juegos')\n",
    "df2.head()"
   ]
  },
  {
   "cell_type": "markdown",
   "metadata": {},
   "source": [
    "Luego fusionaremos los dos dataFrames."
   ]
  },
  {
   "cell_type": "code",
   "execution_count": 42,
   "metadata": {},
   "outputs": [
    {
     "data": {
      "text/html": [
       "<div>\n",
       "<style scoped>\n",
       "    .dataframe tbody tr th:only-of-type {\n",
       "        vertical-align: middle;\n",
       "    }\n",
       "\n",
       "    .dataframe tbody tr th {\n",
       "        vertical-align: top;\n",
       "    }\n",
       "\n",
       "    .dataframe thead th {\n",
       "        text-align: right;\n",
       "    }\n",
       "</style>\n",
       "<table border=\"1\" class=\"dataframe\">\n",
       "  <thead>\n",
       "    <tr style=\"text-align: right;\">\n",
       "      <th></th>\n",
       "      <th>user_id</th>\n",
       "      <th>item_id</th>\n",
       "      <th>puntaje</th>\n",
       "      <th>item_name</th>\n",
       "    </tr>\n",
       "  </thead>\n",
       "  <tbody>\n",
       "    <tr>\n",
       "      <th>0</th>\n",
       "      <td>--000--</td>\n",
       "      <td>218230</td>\n",
       "      <td>5</td>\n",
       "      <td>PlanetSide 2</td>\n",
       "    </tr>\n",
       "    <tr>\n",
       "      <th>1</th>\n",
       "      <td>112asdasfasdasd</td>\n",
       "      <td>218230</td>\n",
       "      <td>3</td>\n",
       "      <td>PlanetSide 2</td>\n",
       "    </tr>\n",
       "    <tr>\n",
       "      <th>2</th>\n",
       "      <td>1234567890192837465</td>\n",
       "      <td>218230</td>\n",
       "      <td>3</td>\n",
       "      <td>PlanetSide 2</td>\n",
       "    </tr>\n",
       "    <tr>\n",
       "      <th>3</th>\n",
       "      <td>2828838282</td>\n",
       "      <td>218230</td>\n",
       "      <td>3</td>\n",
       "      <td>PlanetSide 2</td>\n",
       "    </tr>\n",
       "    <tr>\n",
       "      <th>4</th>\n",
       "      <td>2sd31</td>\n",
       "      <td>218230</td>\n",
       "      <td>3</td>\n",
       "      <td>PlanetSide 2</td>\n",
       "    </tr>\n",
       "    <tr>\n",
       "      <th>...</th>\n",
       "      <td>...</td>\n",
       "      <td>...</td>\n",
       "      <td>...</td>\n",
       "      <td>...</td>\n",
       "    </tr>\n",
       "    <tr>\n",
       "      <th>48797</th>\n",
       "      <td>yougotblehed</td>\n",
       "      <td>315340</td>\n",
       "      <td>2</td>\n",
       "      <td>A.R.E.S. Extinction Agenda EX</td>\n",
       "    </tr>\n",
       "    <tr>\n",
       "      <th>48798</th>\n",
       "      <td>yougoyu</td>\n",
       "      <td>424370</td>\n",
       "      <td>3</td>\n",
       "      <td>Wolcen: Lords of Mayhem</td>\n",
       "    </tr>\n",
       "    <tr>\n",
       "      <th>48799</th>\n",
       "      <td>zayyntt</td>\n",
       "      <td>479260</td>\n",
       "      <td>3</td>\n",
       "      <td>Cuties</td>\n",
       "    </tr>\n",
       "    <tr>\n",
       "      <th>48800</th>\n",
       "      <td>zayyntt</td>\n",
       "      <td>463550</td>\n",
       "      <td>3</td>\n",
       "      <td>Neon Space ULTRA</td>\n",
       "    </tr>\n",
       "    <tr>\n",
       "      <th>48801</th>\n",
       "      <td>zevlupine</td>\n",
       "      <td>383270</td>\n",
       "      <td>3</td>\n",
       "      <td>Hue</td>\n",
       "    </tr>\n",
       "  </tbody>\n",
       "</table>\n",
       "<p>48802 rows × 4 columns</p>\n",
       "</div>"
      ],
      "text/plain": [
       "                   user_id  item_id  puntaje                      item_name\n",
       "0                  --000--   218230        5                   PlanetSide 2\n",
       "1          112asdasfasdasd   218230        3                   PlanetSide 2\n",
       "2      1234567890192837465   218230        3                   PlanetSide 2\n",
       "3               2828838282   218230        3                   PlanetSide 2\n",
       "4                    2sd31   218230        3                   PlanetSide 2\n",
       "...                    ...      ...      ...                            ...\n",
       "48797         yougotblehed   315340        2  A.R.E.S. Extinction Agenda EX\n",
       "48798              yougoyu   424370        3        Wolcen: Lords of Mayhem\n",
       "48799              zayyntt   479260        3                         Cuties\n",
       "48800              zayyntt   463550        3               Neon Space ULTRA\n",
       "48801            zevlupine   383270        3                            Hue\n",
       "\n",
       "[48802 rows x 4 columns]"
      ]
     },
     "execution_count": 42,
     "metadata": {},
     "output_type": "execute_result"
    }
   ],
   "source": [
    "df = df1.merge(df2, on=\"item_id\", how=\"left\")\n",
    "df"
   ]
  },
  {
   "cell_type": "markdown",
   "metadata": {},
   "source": [
    "Podemos observar algunos juegos a los cuales los usuarios les hicieron comentarios, pero que no están en el dataframe df_reviews. Verificamos los tipos de datos y la cantidad de nulos y luego revisaremos las filas con nulos."
   ]
  },
  {
   "cell_type": "code",
   "execution_count": 43,
   "metadata": {},
   "outputs": [
    {
     "data": {
      "text/html": [
       "<div>\n",
       "<style scoped>\n",
       "    .dataframe tbody tr th:only-of-type {\n",
       "        vertical-align: middle;\n",
       "    }\n",
       "\n",
       "    .dataframe tbody tr th {\n",
       "        vertical-align: top;\n",
       "    }\n",
       "\n",
       "    .dataframe thead th {\n",
       "        text-align: right;\n",
       "    }\n",
       "</style>\n",
       "<table border=\"1\" class=\"dataframe\">\n",
       "  <thead>\n",
       "    <tr style=\"text-align: right;\">\n",
       "      <th></th>\n",
       "      <th>nombre_campo</th>\n",
       "      <th>tipo_datos</th>\n",
       "      <th>no_nulos_%</th>\n",
       "      <th>nulos_%</th>\n",
       "      <th>nulos</th>\n",
       "    </tr>\n",
       "  </thead>\n",
       "  <tbody>\n",
       "    <tr>\n",
       "      <th>0</th>\n",
       "      <td>user_id</td>\n",
       "      <td>[&lt;class 'str'&gt;]</td>\n",
       "      <td>100.00</td>\n",
       "      <td>0.00</td>\n",
       "      <td>0</td>\n",
       "    </tr>\n",
       "    <tr>\n",
       "      <th>1</th>\n",
       "      <td>item_id</td>\n",
       "      <td>[&lt;class 'int'&gt;]</td>\n",
       "      <td>100.00</td>\n",
       "      <td>0.00</td>\n",
       "      <td>0</td>\n",
       "    </tr>\n",
       "    <tr>\n",
       "      <th>2</th>\n",
       "      <td>puntaje</td>\n",
       "      <td>[&lt;class 'int'&gt;]</td>\n",
       "      <td>100.00</td>\n",
       "      <td>0.00</td>\n",
       "      <td>0</td>\n",
       "    </tr>\n",
       "    <tr>\n",
       "      <th>3</th>\n",
       "      <td>item_name</td>\n",
       "      <td>[&lt;class 'str'&gt;, &lt;class 'float'&gt;]</td>\n",
       "      <td>90.57</td>\n",
       "      <td>9.43</td>\n",
       "      <td>4601</td>\n",
       "    </tr>\n",
       "  </tbody>\n",
       "</table>\n",
       "</div>"
      ],
      "text/plain": [
       "  nombre_campo                        tipo_datos  no_nulos_%  nulos_%  nulos\n",
       "0      user_id                   [<class 'str'>]      100.00     0.00      0\n",
       "1      item_id                   [<class 'int'>]      100.00     0.00      0\n",
       "2      puntaje                   [<class 'int'>]      100.00     0.00      0\n",
       "3    item_name  [<class 'str'>, <class 'float'>]       90.57     9.43   4601"
      ]
     },
     "execution_count": 43,
     "metadata": {},
     "output_type": "execute_result"
    }
   ],
   "source": [
    "tools.ver_tipo_datos(df)"
   ]
  },
  {
   "cell_type": "code",
   "execution_count": 45,
   "metadata": {},
   "outputs": [
    {
     "data": {
      "text/html": [
       "<div>\n",
       "<style scoped>\n",
       "    .dataframe tbody tr th:only-of-type {\n",
       "        vertical-align: middle;\n",
       "    }\n",
       "\n",
       "    .dataframe tbody tr th {\n",
       "        vertical-align: top;\n",
       "    }\n",
       "\n",
       "    .dataframe thead th {\n",
       "        text-align: right;\n",
       "    }\n",
       "</style>\n",
       "<table border=\"1\" class=\"dataframe\">\n",
       "  <thead>\n",
       "    <tr style=\"text-align: right;\">\n",
       "      <th></th>\n",
       "      <th>user_id</th>\n",
       "      <th>item_id</th>\n",
       "      <th>puntaje</th>\n",
       "      <th>item_name</th>\n",
       "    </tr>\n",
       "  </thead>\n",
       "  <tbody>\n",
       "    <tr>\n",
       "      <th>8405</th>\n",
       "      <td>-SEVEN-</td>\n",
       "      <td>440</td>\n",
       "      <td>3</td>\n",
       "      <td>NaN</td>\n",
       "    </tr>\n",
       "    <tr>\n",
       "      <th>8406</th>\n",
       "      <td>-Ultrix</td>\n",
       "      <td>440</td>\n",
       "      <td>5</td>\n",
       "      <td>NaN</td>\n",
       "    </tr>\n",
       "    <tr>\n",
       "      <th>8407</th>\n",
       "      <td>-_PussyDestroyer_-</td>\n",
       "      <td>440</td>\n",
       "      <td>3</td>\n",
       "      <td>NaN</td>\n",
       "    </tr>\n",
       "    <tr>\n",
       "      <th>8408</th>\n",
       "      <td>0132489</td>\n",
       "      <td>440</td>\n",
       "      <td>3</td>\n",
       "      <td>NaN</td>\n",
       "    </tr>\n",
       "    <tr>\n",
       "      <th>8409</th>\n",
       "      <td>0432-026-no</td>\n",
       "      <td>440</td>\n",
       "      <td>5</td>\n",
       "      <td>NaN</td>\n",
       "    </tr>\n",
       "    <tr>\n",
       "      <th>...</th>\n",
       "      <td>...</td>\n",
       "      <td>...</td>\n",
       "      <td>...</td>\n",
       "      <td>...</td>\n",
       "    </tr>\n",
       "    <tr>\n",
       "      <th>48764</th>\n",
       "      <td>teerakron</td>\n",
       "      <td>465020</td>\n",
       "      <td>3</td>\n",
       "      <td>NaN</td>\n",
       "    </tr>\n",
       "    <tr>\n",
       "      <th>48767</th>\n",
       "      <td>thekangacommando</td>\n",
       "      <td>338163</td>\n",
       "      <td>2</td>\n",
       "      <td>NaN</td>\n",
       "    </tr>\n",
       "    <tr>\n",
       "      <th>48773</th>\n",
       "      <td>tomdabomb115</td>\n",
       "      <td>335800</td>\n",
       "      <td>5</td>\n",
       "      <td>NaN</td>\n",
       "    </tr>\n",
       "    <tr>\n",
       "      <th>48784</th>\n",
       "      <td>unkowncode94</td>\n",
       "      <td>268090</td>\n",
       "      <td>5</td>\n",
       "      <td>NaN</td>\n",
       "    </tr>\n",
       "    <tr>\n",
       "      <th>48789</th>\n",
       "      <td>waritninp</td>\n",
       "      <td>402290</td>\n",
       "      <td>3</td>\n",
       "      <td>NaN</td>\n",
       "    </tr>\n",
       "  </tbody>\n",
       "</table>\n",
       "<p>4601 rows × 4 columns</p>\n",
       "</div>"
      ],
      "text/plain": [
       "                  user_id  item_id  puntaje item_name\n",
       "8405              -SEVEN-      440        3       NaN\n",
       "8406              -Ultrix      440        5       NaN\n",
       "8407   -_PussyDestroyer_-      440        3       NaN\n",
       "8408              0132489      440        3       NaN\n",
       "8409          0432-026-no      440        5       NaN\n",
       "...                   ...      ...      ...       ...\n",
       "48764           teerakron   465020        3       NaN\n",
       "48767    thekangacommando   338163        2       NaN\n",
       "48773        tomdabomb115   335800        5       NaN\n",
       "48784        unkowncode94   268090        5       NaN\n",
       "48789           waritninp   402290        3       NaN\n",
       "\n",
       "[4601 rows x 4 columns]"
      ]
     },
     "execution_count": 45,
     "metadata": {},
     "output_type": "execute_result"
    }
   ],
   "source": [
    "# revisamos los reviews sin nombres de juegos en `df`\n",
    "sin_juegos = df[df.isnull().any(axis=1)]\n",
    "# Calculamos la cantidad de juegos en esta situación\n",
    "sin_juegos"
   ]
  },
  {
   "cell_type": "markdown",
   "metadata": {},
   "source": [
    "Decidimos borrarlos del conjunto de datos."
   ]
  },
  {
   "cell_type": "code",
   "execution_count": 46,
   "metadata": {},
   "outputs": [
    {
     "name": "stdout",
     "output_type": "stream",
     "text": [
      "Quedan 44201 registros\n"
     ]
    },
    {
     "data": {
      "text/html": [
       "<div>\n",
       "<style scoped>\n",
       "    .dataframe tbody tr th:only-of-type {\n",
       "        vertical-align: middle;\n",
       "    }\n",
       "\n",
       "    .dataframe tbody tr th {\n",
       "        vertical-align: top;\n",
       "    }\n",
       "\n",
       "    .dataframe thead th {\n",
       "        text-align: right;\n",
       "    }\n",
       "</style>\n",
       "<table border=\"1\" class=\"dataframe\">\n",
       "  <thead>\n",
       "    <tr style=\"text-align: right;\">\n",
       "      <th></th>\n",
       "      <th>nombre_campo</th>\n",
       "      <th>tipo_datos</th>\n",
       "      <th>no_nulos_%</th>\n",
       "      <th>nulos_%</th>\n",
       "      <th>nulos</th>\n",
       "    </tr>\n",
       "  </thead>\n",
       "  <tbody>\n",
       "    <tr>\n",
       "      <th>0</th>\n",
       "      <td>user_id</td>\n",
       "      <td>[&lt;class 'str'&gt;]</td>\n",
       "      <td>100.0</td>\n",
       "      <td>0.0</td>\n",
       "      <td>0</td>\n",
       "    </tr>\n",
       "    <tr>\n",
       "      <th>1</th>\n",
       "      <td>item_id</td>\n",
       "      <td>[&lt;class 'int'&gt;]</td>\n",
       "      <td>100.0</td>\n",
       "      <td>0.0</td>\n",
       "      <td>0</td>\n",
       "    </tr>\n",
       "    <tr>\n",
       "      <th>2</th>\n",
       "      <td>puntaje</td>\n",
       "      <td>[&lt;class 'int'&gt;]</td>\n",
       "      <td>100.0</td>\n",
       "      <td>0.0</td>\n",
       "      <td>0</td>\n",
       "    </tr>\n",
       "    <tr>\n",
       "      <th>3</th>\n",
       "      <td>item_name</td>\n",
       "      <td>[&lt;class 'str'&gt;]</td>\n",
       "      <td>100.0</td>\n",
       "      <td>0.0</td>\n",
       "      <td>0</td>\n",
       "    </tr>\n",
       "  </tbody>\n",
       "</table>\n",
       "</div>"
      ],
      "text/plain": [
       "  nombre_campo       tipo_datos  no_nulos_%  nulos_%  nulos\n",
       "0      user_id  [<class 'str'>]       100.0      0.0      0\n",
       "1      item_id  [<class 'int'>]       100.0      0.0      0\n",
       "2      puntaje  [<class 'int'>]       100.0      0.0      0\n",
       "3    item_name  [<class 'str'>]       100.0      0.0      0"
      ]
     },
     "execution_count": 46,
     "metadata": {},
     "output_type": "execute_result"
    }
   ],
   "source": [
    "# Borramos los nulos\n",
    "df = df.dropna(subset=[\"item_name\"])\n",
    "# Se cuentan los registros que quedan\n",
    "print(f\"Quedan {df.shape[0]} registros\")\n",
    "# Se verifican los tipo de dato y nulos\n",
    "tools.ver_tipo_datos(df)"
   ]
  },
  {
   "cell_type": "markdown",
   "metadata": {},
   "source": [
    "Creamos un último dataframe con las columnas necesarias para los modelos de recomendación."
   ]
  },
  {
   "cell_type": "code",
   "execution_count": 47,
   "metadata": {},
   "outputs": [
    {
     "data": {
      "text/html": [
       "<div>\n",
       "<style scoped>\n",
       "    .dataframe tbody tr th:only-of-type {\n",
       "        vertical-align: middle;\n",
       "    }\n",
       "\n",
       "    .dataframe tbody tr th {\n",
       "        vertical-align: top;\n",
       "    }\n",
       "\n",
       "    .dataframe thead th {\n",
       "        text-align: right;\n",
       "    }\n",
       "</style>\n",
       "<table border=\"1\" class=\"dataframe\">\n",
       "  <thead>\n",
       "    <tr style=\"text-align: right;\">\n",
       "      <th></th>\n",
       "      <th>user_id</th>\n",
       "      <th>item_name</th>\n",
       "      <th>puntaje</th>\n",
       "    </tr>\n",
       "  </thead>\n",
       "  <tbody>\n",
       "    <tr>\n",
       "      <th>0</th>\n",
       "      <td>--000--</td>\n",
       "      <td>PlanetSide 2</td>\n",
       "      <td>5</td>\n",
       "    </tr>\n",
       "    <tr>\n",
       "      <th>1</th>\n",
       "      <td>112asdasfasdasd</td>\n",
       "      <td>PlanetSide 2</td>\n",
       "      <td>3</td>\n",
       "    </tr>\n",
       "    <tr>\n",
       "      <th>2</th>\n",
       "      <td>1234567890192837465</td>\n",
       "      <td>PlanetSide 2</td>\n",
       "      <td>3</td>\n",
       "    </tr>\n",
       "    <tr>\n",
       "      <th>3</th>\n",
       "      <td>2828838282</td>\n",
       "      <td>PlanetSide 2</td>\n",
       "      <td>3</td>\n",
       "    </tr>\n",
       "    <tr>\n",
       "      <th>4</th>\n",
       "      <td>2sd31</td>\n",
       "      <td>PlanetSide 2</td>\n",
       "      <td>3</td>\n",
       "    </tr>\n",
       "  </tbody>\n",
       "</table>\n",
       "</div>"
      ],
      "text/plain": [
       "               user_id     item_name  puntaje\n",
       "0              --000--  PlanetSide 2        5\n",
       "1      112asdasfasdasd  PlanetSide 2        3\n",
       "2  1234567890192837465  PlanetSide 2        3\n",
       "3           2828838282  PlanetSide 2        3\n",
       "4                2sd31  PlanetSide 2        3"
      ]
     },
     "execution_count": 47,
     "metadata": {},
     "output_type": "execute_result"
    }
   ],
   "source": [
    "df_recomendacion = df[['user_id', 'item_name', 'puntaje']]\n",
    "df_recomendacion.head()"
   ]
  },
  {
   "cell_type": "markdown",
   "metadata": {},
   "source": [
    "En el siguiente gráfico, podemos ver la cantidad de reviews distribuidos por el puntaje adoptado."
   ]
  },
  {
   "cell_type": "code",
   "execution_count": 54,
   "metadata": {},
   "outputs": [
    {
     "data": {
      "image/png": "[encoded data removed]",
      "text/plain": [
       "<Figure size 1200x400 with 2 Axes>"
      ]
     },
     "metadata": {},
     "output_type": "display_data"
    }
   ],
   "source": [
    "# Agrupa las calificaciones por rating\n",
    "ratings_count = df_recomendacion[\"puntaje\"].value_counts().reset_index()\n",
    "ratings_count.columns = [\"puntaje\", \"count\"]\n",
    "# Agrupa los juegos únicos por rating\n",
    "unique_games_per_puntaje = df.groupby(\"puntaje\")[\"item_name\"].nunique().reset_index()\n",
    "\n",
    "# Crea una figura con dos subplots\n",
    "fig, axes = plt.subplots(1, 2, figsize=(12, 4))\n",
    "\n",
    "# Primer subplot\n",
    "sns.barplot(data=ratings_count, x=\"puntaje\", y=\"count\", ax=axes[0])\n",
    "axes[0].set_title(\"Cantidad de reviews según los puntajes\") ; axes[0].set_xlabel(\"Puntaje\") ; axes[0].set_ylabel(\"Cantidad reviews\")\n",
    "\n",
    "# Segundo subplot\n",
    "sns.barplot(data=unique_games_per_puntaje, x=\"puntaje\", y='item_name', ax=axes[1])\n",
    "axes[1].set_title(\"Cantidad de Juegos por puntaje\") ; axes[1].set_xlabel(\"puntaje\") ; axes[1].set_ylabel(\"Cantidad de juegos\")\n",
    "\n",
    "# Ajusta y muestra los graficos\n",
    "plt.tight_layout()\n",
    "plt.show()"
   ]
  },
  {
   "cell_type": "code",
   "execution_count": 55,
   "metadata": {},
   "outputs": [
    {
     "data": {
      "text/html": [
       "<div>\n",
       "<style scoped>\n",
       "    .dataframe tbody tr th:only-of-type {\n",
       "        vertical-align: middle;\n",
       "    }\n",
       "\n",
       "    .dataframe tbody tr th {\n",
       "        vertical-align: top;\n",
       "    }\n",
       "\n",
       "    .dataframe thead th {\n",
       "        text-align: right;\n",
       "    }\n",
       "</style>\n",
       "<table border=\"1\" class=\"dataframe\">\n",
       "  <thead>\n",
       "    <tr style=\"text-align: right;\">\n",
       "      <th></th>\n",
       "      <th>Cantidad</th>\n",
       "      <th>Porcentaje</th>\n",
       "    </tr>\n",
       "    <tr>\n",
       "      <th>puntaje</th>\n",
       "      <th></th>\n",
       "      <th></th>\n",
       "    </tr>\n",
       "  </thead>\n",
       "  <tbody>\n",
       "    <tr>\n",
       "      <th>3</th>\n",
       "      <td>24156</td>\n",
       "      <td>54.65</td>\n",
       "    </tr>\n",
       "    <tr>\n",
       "      <th>5</th>\n",
       "      <td>12457</td>\n",
       "      <td>28.18</td>\n",
       "    </tr>\n",
       "    <tr>\n",
       "      <th>1</th>\n",
       "      <td>3906</td>\n",
       "      <td>8.84</td>\n",
       "    </tr>\n",
       "    <tr>\n",
       "      <th>2</th>\n",
       "      <td>3252</td>\n",
       "      <td>7.36</td>\n",
       "    </tr>\n",
       "    <tr>\n",
       "      <th>4</th>\n",
       "      <td>430</td>\n",
       "      <td>0.97</td>\n",
       "    </tr>\n",
       "  </tbody>\n",
       "</table>\n",
       "</div>"
      ],
      "text/plain": [
       "         Cantidad  Porcentaje\n",
       "puntaje                      \n",
       "3           24156       54.65\n",
       "5           12457       28.18\n",
       "1            3906        8.84\n",
       "2            3252        7.36\n",
       "4             430        0.97"
      ]
     },
     "execution_count": 55,
     "metadata": {},
     "output_type": "execute_result"
    }
   ],
   "source": [
    "# Cantidades de review por rating\n",
    "tools.resumen_porcentaje(df_recomendacion, 'puntaje')\n"
   ]
  },
  {
   "cell_type": "code",
   "execution_count": 57,
   "metadata": {},
   "outputs": [
    {
     "data": {
      "text/html": [
       "<div>\n",
       "<style scoped>\n",
       "    .dataframe tbody tr th:only-of-type {\n",
       "        vertical-align: middle;\n",
       "    }\n",
       "\n",
       "    .dataframe tbody tr th {\n",
       "        vertical-align: top;\n",
       "    }\n",
       "\n",
       "    .dataframe thead th {\n",
       "        text-align: right;\n",
       "    }\n",
       "</style>\n",
       "<table border=\"1\" class=\"dataframe\">\n",
       "  <thead>\n",
       "    <tr style=\"text-align: right;\">\n",
       "      <th></th>\n",
       "      <th>puntaje</th>\n",
       "      <th>item_name</th>\n",
       "    </tr>\n",
       "  </thead>\n",
       "  <tbody>\n",
       "    <tr>\n",
       "      <th>0</th>\n",
       "      <td>1</td>\n",
       "      <td>953</td>\n",
       "    </tr>\n",
       "    <tr>\n",
       "      <th>1</th>\n",
       "      <td>2</td>\n",
       "      <td>980</td>\n",
       "    </tr>\n",
       "    <tr>\n",
       "      <th>2</th>\n",
       "      <td>3</td>\n",
       "      <td>2103</td>\n",
       "    </tr>\n",
       "    <tr>\n",
       "      <th>3</th>\n",
       "      <td>4</td>\n",
       "      <td>240</td>\n",
       "    </tr>\n",
       "    <tr>\n",
       "      <th>4</th>\n",
       "      <td>5</td>\n",
       "      <td>1538</td>\n",
       "    </tr>\n",
       "  </tbody>\n",
       "</table>\n",
       "</div>"
      ],
      "text/plain": [
       "   puntaje  item_name\n",
       "0        1        953\n",
       "1        2        980\n",
       "2        3       2103\n",
       "3        4        240\n",
       "4        5       1538"
      ]
     },
     "execution_count": 57,
     "metadata": {},
     "output_type": "execute_result"
    }
   ],
   "source": [
    "# Cantidad de juegos por puntaje\n",
    "unique_games_per_puntaje"
   ]
  },
  {
   "cell_type": "markdown",
   "metadata": {},
   "source": [
    "Podemos ver en la gráfica de la derecha que la mayoría de las reviews tienen un puntaje' de 3, correspondiente a sentimientos neutrales pero que recomiendan el juego, siendo 24156 reviews (el 54% de los comentarios) en esta categoría. Le siguen 12457 reviews con sentimientos positivos y que recomiendan los juegos comentados. Finalmente, se observan menos de 4000 comentarios con sentimiento negativo. Por otro lado, en la gráfica de la izquierda se pueden observa cerca de 1550 juegos recomendados.\n",
    "\n",
    "Finalmente, se guarda el dataFrame a utilizar en el modelo de recomnedación."
   ]
  },
  {
   "cell_type": "code",
   "execution_count": 58,
   "metadata": {},
   "outputs": [
    {
     "name": "stdout",
     "output_type": "stream",
     "text": [
      "Se guardado como 'df_recomendacion.csv'\n"
     ]
    }
   ],
   "source": [
    "df_recomendacion.to_csv(\"df_recomendacion.csv\", index=False, encoding=\"utf-8\")\n",
    "print(f\"Se guardado como 'df_recomendacion.csv'\")"
   ]
  }
 ],
 "metadata": {
  "kernelspec": {
   "display_name": "Python 3",
   "language": "python",
   "name": "python3"
  },
  "language_info": {
   "codemirror_mode": {
    "name": "ipython",
    "version": 3
   },
   "file_extension": ".py",
   "mimetype": "text/x-python",
   "name": "python",
   "nbconvert_exporter": "python",
   "pygments_lexer": "ipython3",
   "version": "3.11.5"
  }
 },
 "nbformat": 4,
 "nbformat_minor": 2
}
